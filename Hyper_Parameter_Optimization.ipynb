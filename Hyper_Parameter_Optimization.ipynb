{
  "nbformat": 4,
  "nbformat_minor": 0,
  "metadata": {
    "colab": {
      "provenance": [],
      "gpuType": "T4"
    },
    "kernelspec": {
      "name": "python3",
      "display_name": "Python 3"
    },
    "language_info": {
      "name": "python"
    },
    "accelerator": "GPU"
  },
  "cells": [
    {
      "cell_type": "markdown",
      "source": [
        "**Hyper-Parameter Tuning**"
      ],
      "metadata": {
        "id": "EX0ktYT6eCb3"
      }
    },
    {
      "cell_type": "markdown",
      "source": [
        "Imports"
      ],
      "metadata": {
        "id": "EAoFKNZahUGe"
      }
    },
    {
      "cell_type": "code",
      "source": [
        "%matplotlib inline\n",
        "import matplotlib.pyplot as plt\n",
        "import math\n",
        "import tensorflow as tf\n",
        "import numpy as np"
      ],
      "metadata": {
        "id": "D9QCL0eveHVo"
      },
      "execution_count": 1,
      "outputs": []
    },
    {
      "cell_type": "code",
      "source": [
        "from tensorflow.keras import backend as K\n",
        "from tensorflow.keras.models import Sequential\n",
        "from tensorflow.keras.layers import InputLayer, Input\n",
        "from tensorflow.keras.layers import Reshape, MaxPooling2D\n",
        "from tensorflow.keras.layers import Conv2D, Dense, Flatten\n",
        "from tensorflow.keras.callbacks import TensorBoard\n",
        "from tensorflow.keras.optimizers import Adam\n",
        "from tensorflow.keras.models import load_model\n",
        "from tensorflow.keras.utils import to_categorical"
      ],
      "metadata": {
        "id": "8YNgCGE3iKj8"
      },
      "execution_count": 2,
      "outputs": []
    },
    {
      "cell_type": "code",
      "source": [
        "pip install h5py scikit-optimize"
      ],
      "metadata": {
        "colab": {
          "base_uri": "https://localhost:8080/"
        },
        "id": "XCysQesMRJS5",
        "outputId": "e565eaca-478b-4dab-8cf0-12d08ffe6330"
      },
      "execution_count": 3,
      "outputs": [
        {
          "output_type": "stream",
          "name": "stdout",
          "text": [
            "Requirement already satisfied: h5py in /usr/local/lib/python3.10/dist-packages (3.9.0)\n",
            "Collecting scikit-optimize\n",
            "  Downloading scikit_optimize-0.10.1-py2.py3-none-any.whl (107 kB)\n",
            "\u001b[2K     \u001b[90m━━━━━━━━━━━━━━━━━━━━━━━━━━━━━━━━━━━━━━━━\u001b[0m \u001b[32m107.7/107.7 kB\u001b[0m \u001b[31m3.6 MB/s\u001b[0m eta \u001b[36m0:00:00\u001b[0m\n",
            "\u001b[?25hRequirement already satisfied: numpy>=1.17.3 in /usr/local/lib/python3.10/dist-packages (from h5py) (1.25.2)\n",
            "Requirement already satisfied: joblib>=0.11 in /usr/local/lib/python3.10/dist-packages (from scikit-optimize) (1.3.2)\n",
            "Collecting pyaml>=16.9 (from scikit-optimize)\n",
            "  Downloading pyaml-23.12.0-py3-none-any.whl (23 kB)\n",
            "Requirement already satisfied: scipy>=1.1.0 in /usr/local/lib/python3.10/dist-packages (from scikit-optimize) (1.11.4)\n",
            "Requirement already satisfied: scikit-learn>=1.0.0 in /usr/local/lib/python3.10/dist-packages (from scikit-optimize) (1.2.2)\n",
            "Requirement already satisfied: packaging>=21.3 in /usr/local/lib/python3.10/dist-packages (from scikit-optimize) (24.0)\n",
            "Requirement already satisfied: PyYAML in /usr/local/lib/python3.10/dist-packages (from pyaml>=16.9->scikit-optimize) (6.0.1)\n",
            "Requirement already satisfied: threadpoolctl>=2.0.0 in /usr/local/lib/python3.10/dist-packages (from scikit-learn>=1.0.0->scikit-optimize) (3.4.0)\n",
            "Installing collected packages: pyaml, scikit-optimize\n",
            "Successfully installed pyaml-23.12.0 scikit-optimize-0.10.1\n"
          ]
        }
      ]
    },
    {
      "cell_type": "code",
      "source": [
        "import skopt\n",
        "from skopt import gp_minimize, forest_minimize\n",
        "from skopt.space import Real, Categorical, Integer\n",
        "from skopt.plots import plot_convergence\n",
        "from skopt.plots import plot_objective, plot_evaluations\n",
        "from skopt.plots import plot_histogram, plot_objective_2D\n",
        "from skopt.utils import use_named_args"
      ],
      "metadata": {
        "id": "9x3w_hlBiado"
      },
      "execution_count": 4,
      "outputs": []
    },
    {
      "cell_type": "code",
      "source": [
        "tf.__version__"
      ],
      "metadata": {
        "colab": {
          "base_uri": "https://localhost:8080/",
          "height": 36
        },
        "id": "kn6FChCujXWX",
        "outputId": "5dddc1a8-857b-4972-f774-b9c6c19987db"
      },
      "execution_count": 5,
      "outputs": [
        {
          "output_type": "execute_result",
          "data": {
            "text/plain": [
              "'2.15.0'"
            ],
            "application/vnd.google.colaboratory.intrinsic+json": {
              "type": "string"
            }
          },
          "metadata": {},
          "execution_count": 5
        }
      ]
    },
    {
      "cell_type": "code",
      "source": [
        "skopt.__version__"
      ],
      "metadata": {
        "colab": {
          "base_uri": "https://localhost:8080/",
          "height": 36
        },
        "id": "-p0xId-bkSke",
        "outputId": "10025154-1b8f-4acd-8aa7-0e7d56f75fbb"
      },
      "execution_count": 7,
      "outputs": [
        {
          "output_type": "execute_result",
          "data": {
            "text/plain": [
              "'0.10.1'"
            ],
            "application/vnd.google.colaboratory.intrinsic+json": {
              "type": "string"
            }
          },
          "metadata": {},
          "execution_count": 7
        }
      ]
    },
    {
      "cell_type": "code",
      "source": [
        "dim_learning_rate = Real(low = 1e-6, high = 1e-2, prior= 'log-uniform', name= 'learning_rate')\n",
        "dim_num_dense_layer = Integer(low = 1, high = 5, name= 'num_dense_layers')\n",
        "dim_num_dense_nodes = Integer(low = 5, high = 512,  name= 'num_dense_nodes')\n",
        "dim_activation = Categorical(categories = ['relu', 'sigmoid'], name = 'activation')"
      ],
      "metadata": {
        "id": "7UUPZ0qdkWaA"
      },
      "execution_count": 8,
      "outputs": []
    },
    {
      "cell_type": "code",
      "source": [
        "dimensions = [dim_learning_rate,\n",
        "              dim_num_dense_layer,\n",
        "              dim_num_dense_nodes,\n",
        "              dim_activation]"
      ],
      "metadata": {
        "id": "RRw5l0u9nD2J"
      },
      "execution_count": 9,
      "outputs": []
    },
    {
      "cell_type": "code",
      "source": [
        "default_parameters = [1e-5,1,16,'relu']"
      ],
      "metadata": {
        "id": "NvnHFznDnT9Z"
      },
      "execution_count": 10,
      "outputs": []
    },
    {
      "cell_type": "code",
      "source": [
        "def log_dir_name(learning_rate, num_dense_layers, num_dense_nodes, activation):\n",
        "\n",
        "  # The dir-name for the TensorBoard log-dir.\n",
        "    s = \"./logs/lr_{0:.0e}_layers_{1}_nodes_{2}_{3}/\"\n",
        "\n",
        "  # Insert all the hyper-parameters in the dir-name.\n",
        "    log_dir = s.format(learning_rate,\n",
        "                       num_dense_layers,\n",
        "                       num_dense_nodes,\n",
        "                       activation)\n",
        "    return log_dir"
      ],
      "metadata": {
        "id": "_YH6XKC0ojRj"
      },
      "execution_count": 11,
      "outputs": []
    },
    {
      "cell_type": "markdown",
      "source": [
        "Load Data"
      ],
      "metadata": {
        "id": "fh6XbjD6paRp"
      }
    },
    {
      "cell_type": "code",
      "source": [
        "from tensorflow.keras.datasets import mnist\n",
        "from sklearn.model_selection import train_test_split\n",
        "\n",
        "# Load MNIST dataset\n",
        "(train_images, train_labels), (test_images, test_labels) = mnist.load_data()\n",
        "\n",
        "# Split training data into training and validation sets\n",
        "train_images, val_images, train_labels, val_labels = train_test_split(train_images, train_labels, test_size=0.1, random_state=42)"
      ],
      "metadata": {
        "id": "LmpcBIkQpRoU",
        "colab": {
          "base_uri": "https://localhost:8080/"
        },
        "outputId": "37fe03b9-0dd5-46a9-b811-f2b99c108c4f"
      },
      "execution_count": 12,
      "outputs": [
        {
          "output_type": "stream",
          "name": "stdout",
          "text": [
            "Downloading data from https://storage.googleapis.com/tensorflow/tf-keras-datasets/mnist.npz\n",
            "11490434/11490434 [==============================] - 0s 0us/step\n"
          ]
        }
      ]
    },
    {
      "cell_type": "code",
      "source": [
        "print(\"Size of:\")\n",
        "print(\"- Training-set:\\t\\t{}\".format(len(train_images)))\n",
        "print(\"- Validation-set:\\t{}\".format(len(val_images)))\n",
        "print(\"- Test-set:\\t\\t{}\".format(len(test_images)))"
      ],
      "metadata": {
        "colab": {
          "base_uri": "https://localhost:8080/"
        },
        "id": "9FnAW7V0pfhh",
        "outputId": "1ae62a7d-6bb7-4c3f-83ef-697b0788fecc"
      },
      "execution_count": 13,
      "outputs": [
        {
          "output_type": "stream",
          "name": "stdout",
          "text": [
            "Size of:\n",
            "- Training-set:\t\t54000\n",
            "- Validation-set:\t6000\n",
            "- Test-set:\t\t10000\n"
          ]
        }
      ]
    },
    {
      "cell_type": "code",
      "source": [
        "img_size = train_images[0].shape[0]\n",
        "\n",
        "img_size_flat = train_images[0].size\n",
        "\n",
        "img_shape = train_images[0].shape\n",
        "\n",
        "img_full_shape = train_images[0].shape + (1,)\n",
        "\n",
        "num_classes = len(np.unique(train_labels))\n",
        "\n",
        "num_channels = 1 #gray scale"
      ],
      "metadata": {
        "id": "YHYVguTRpjaH"
      },
      "execution_count": 14,
      "outputs": []
    },
    {
      "cell_type": "code",
      "source": [
        "train_labels_one_hot = to_categorical(train_labels, num_classes)\n",
        "val_labels_one_hot = to_categorical(val_labels, num_classes)\n",
        "test_labels_one_hot = to_categorical(test_labels, num_classes)"
      ],
      "metadata": {
        "id": "tRI5tmkifZn6"
      },
      "execution_count": 15,
      "outputs": []
    },
    {
      "cell_type": "code",
      "source": [
        "validation_data = (val_images, val_labels_one_hot)"
      ],
      "metadata": {
        "id": "TaXVGr7Jrj8X"
      },
      "execution_count": 16,
      "outputs": []
    },
    {
      "cell_type": "markdown",
      "source": [
        "Helper function for plotting images"
      ],
      "metadata": {
        "id": "7jQMNzoWvB1f"
      }
    },
    {
      "cell_type": "code",
      "source": [
        "def plot_images(images, cls_true, cls_pred=None):\n",
        "    assert len(images) == len(cls_true) == 9\n",
        "\n",
        "    # Create figure with 3x3 sub-plots.\n",
        "    fig, axes = plt.subplots(3, 3)\n",
        "    fig.subplots_adjust(hspace=0.3, wspace=0.3)\n",
        "\n",
        "    for i, ax in enumerate(axes.flat):\n",
        "        # Plot image.\n",
        "        ax.imshow(images[i].reshape(img_shape), cmap='binary')\n",
        "\n",
        "        # Show true and predicted classes.\n",
        "        if cls_pred is None:\n",
        "            xlabel = \"True: {0}\".format(cls_true[i])\n",
        "        else:\n",
        "            xlabel = \"True: {0}, Pred: {1}\".format(cls_true[i], cls_pred[i])\n",
        "\n",
        "        # Show the classes as the label on the x-axis.\n",
        "        ax.set_xlabel(xlabel)\n",
        "\n",
        "        # Remove ticks from the plot.\n",
        "        ax.set_xticks([])\n",
        "        ax.set_yticks([])\n",
        "\n",
        "    # Ensure the plot is shown correctly with multiple plots\n",
        "    # in a single Notebook cell.\n",
        "    plt.show()"
      ],
      "metadata": {
        "id": "r1GJ0BmnrovJ"
      },
      "execution_count": 17,
      "outputs": []
    },
    {
      "cell_type": "markdown",
      "source": [
        "Plot few images to see if data is correct"
      ],
      "metadata": {
        "id": "d5wTZIz0wjMm"
      }
    },
    {
      "cell_type": "code",
      "source": [
        "# Get the first images from the test-set.\n",
        "images = test_images[0:9]\n",
        "\n",
        "# Get the true classes for those images.\n",
        "cls_true = test_labels[0:9]\n",
        "\n",
        "# Plot the images and labels using our helper-function above.\n",
        "plot_images(images=images, cls_true=cls_true)"
      ],
      "metadata": {
        "colab": {
          "base_uri": "https://localhost:8080/",
          "height": 426
        },
        "id": "KP6jt9ewvLWV",
        "outputId": "ad09b1b2-9c13-4075-b112-1229f0a25965"
      },
      "execution_count": 18,
      "outputs": [
        {
          "output_type": "display_data",
          "data": {
            "text/plain": [
              "<Figure size 640x480 with 9 Axes>"
            ],
            "image/png": "[encoded data removed]"
          },
          "metadata": {}
        }
      ]
    },
    {
      "cell_type": "markdown",
      "source": [
        "Helper function to plot example errors"
      ],
      "metadata": {
        "id": "MnBCiATww3SP"
      }
    },
    {
      "cell_type": "code",
      "source": [
        "def plot_example_errors(cls_pred):\n",
        "    # cls_pred is an array of the predicted class-number for\n",
        "    # all images in the test-set.\n",
        "\n",
        "    # Boolean array whether the predicted class is incorrect.\n",
        "    incorrect = (cls_pred != test_labels)\n",
        "\n",
        "    # Get the images from the test-set that have been\n",
        "    # incorrectly classified.\n",
        "    images = test_images[incorrect]\n",
        "\n",
        "    # Get the predicted classes for those images.\n",
        "    cls_pred = cls_pred[incorrect]\n",
        "\n",
        "    # Get the true classes for those images.\n",
        "    cls_true = test_labels[incorrect]\n",
        "\n",
        "    # Plot the first 9 images.\n",
        "    plot_images(images=images[0:9],\n",
        "                cls_true=cls_true[0:9],\n",
        "                cls_pred=cls_pred[0:9])"
      ],
      "metadata": {
        "id": "MbDhlynSwfzE"
      },
      "execution_count": 19,
      "outputs": []
    },
    {
      "cell_type": "markdown",
      "source": [
        "**Hyper-Parameter Optimization**"
      ],
      "metadata": {
        "id": "4TqQEkEK2Q8-"
      }
    },
    {
      "cell_type": "markdown",
      "source": [
        "Create the Model"
      ],
      "metadata": {
        "id": "XvGxkwC-2cMa"
      }
    },
    {
      "cell_type": "code",
      "source": [
        "def create_model(learning_rate, num_dense_layers, num_dense_nodes, activation):\n",
        "\n",
        "  model = Sequential()\n",
        "  model.add(InputLayer(input_shape = img_shape))\n",
        "  #model.add(InputLayer(input_shape=(img_size_flat,)))\n",
        "  model.add(Reshape(img_full_shape))\n",
        "\n",
        "  # First Convolutional layer\n",
        "  # There are many hyper-parameters in this layer.\n",
        "  # Now only dealing with activation function\n",
        "  model.add(Conv2D(kernel_size = 5, strides = 1, filters = 16, padding = 'same',\n",
        "                   activation = activation, name = 'layer_conv1'))\n",
        "  model.add(MaxPooling2D(pool_size=2, strides = 2))\n",
        "\n",
        "  # Second Convolutional layer\n",
        "  # Again only dealing with activation function here\n",
        "  model.add(Conv2D(kernel_size = 5, strides = 1, filters = 36, padding = 'same',\n",
        "                   activation = activation, name = 'layer_conv_2'))\n",
        "  model.add(MaxPooling2D(pool_size= 2, strides = 2))\n",
        "\n",
        "  model.add(Flatten())\n",
        "\n",
        "  # Add Dense layers\n",
        "  # Number of Dense layers is a hyper-parameter to optimize\n",
        "  for i in range(num_dense_layers):\n",
        "    name = 'layer_dense_{0}'.format(i+1)\n",
        "\n",
        "    # Add the Dense layer to the model\n",
        "    # It has two hyper-parameters that we want to optimize\n",
        "    # activation-function and num_dense_nodes\n",
        "    model.add(Dense(num_dense_nodes, activation = activation, name = name))\n",
        "\n",
        "\n",
        "  model.add(Dense(num_classes, activation = 'softmax'))\n",
        "\n",
        "  # We want to optimize the best learning rate for the ADAM\n",
        "  optimizer = Adam(lr = learning_rate)\n",
        "\n",
        "  model.compile(optimizer = optimizer,\n",
        "                loss = 'categorical_crossentropy',\n",
        "                metrics = ['accuracy'])\n",
        "\n",
        "  return model"
      ],
      "metadata": {
        "id": "-__CZosl2e0b"
      },
      "execution_count": 20,
      "outputs": []
    },
    {
      "cell_type": "markdown",
      "source": [
        "Train & Evaluate the Model"
      ],
      "metadata": {
        "id": "HHE0eNNRRxrn"
      }
    },
    {
      "cell_type": "code",
      "source": [
        "path_best_model = 'best_model.h5'"
      ],
      "metadata": {
        "id": "JJFnpIcv9R2z"
      },
      "execution_count": 21,
      "outputs": []
    },
    {
      "cell_type": "code",
      "source": [
        "# Classification accuracy of the Model saved to Disk. It is a global variable which will be updated during optimization of the hyper-parameters.\n",
        "best_accuracy = 0.0"
      ],
      "metadata": {
        "id": "2EePZVKYR6lm"
      },
      "execution_count": 22,
      "outputs": []
    },
    {
      "cell_type": "code",
      "source": [
        "@use_named_args(dimensions = dimensions)\n",
        "def fitness(learning_rate, num_dense_layers, num_dense_nodes, activation):\n",
        "\n",
        "  # Print the hyper-parameters.\n",
        "    print('learning rate: {0:.1e}'.format(learning_rate))\n",
        "    print('num_dense_layers:', num_dense_layers)\n",
        "    print('num_dense_nodes:', num_dense_nodes)\n",
        "    print('activation:', activation)\n",
        "    print()\n",
        "\n",
        "    # Create the NN with these hyper-parameters\n",
        "    model = create_model(learning_rate = learning_rate, num_dense_layers = num_dense_layers,\n",
        "                         num_dense_nodes = num_dense_nodes, activation = activation)\n",
        "\n",
        "    print(model.output_shape)\n",
        "    # Dir name for the TensorBoard log files\n",
        "    log_dir = log_dir_name(learning_rate, num_dense_layers, num_dense_nodes, activation)\n",
        "\n",
        "    # Create a callback-function for Keras which will be\n",
        "    # run after each epoch has ended during training.\n",
        "    # This saves the log-files for TensorBoard.\n",
        "    callback_log = TensorBoard(log_dir = log_dir, histogram_freq=0, write_graph = True, write_grads = True, write_images = False )\n",
        "\n",
        "    # Use keras to train the Model\n",
        "    history = model.fit(\n",
        "                x = train_images,\n",
        "                y = train_labels_one_hot,\n",
        "                epochs = 3,\n",
        "                batch_size = 128,\n",
        "                validation_data = validation_data,\n",
        "                callbacks = [callback_log] )\n",
        "\n",
        "    # get the classification accuracy on the validation set\n",
        "    # after the last epoch is complete\n",
        "    accuracy = history.history['val_accuracy'][-1]\n",
        "\n",
        "    # Print the classification accuracy.\n",
        "    print()\n",
        "    print(\"Accuracy: {0:.2%}\".format(accuracy))\n",
        "    print()\n",
        "\n",
        "    # save the model if it improves on the best-found performance\n",
        "    global best_accuracy\n",
        "\n",
        "    if accuracy > best_accuracy:\n",
        "      # save the best model\n",
        "      model.save(path_best_model)\n",
        "\n",
        "      # Update classification accuracy\n",
        "      best_accuracy = accuracy\n",
        "\n",
        "    # Delete the model with these hyper-parameters from the memory\n",
        "    del model\n",
        "\n",
        "    K.clear_session()\n",
        "\n",
        "    return -accuracy"
      ],
      "metadata": {
        "id": "bef1DEcxSQxS"
      },
      "execution_count": 24,
      "outputs": []
    },
    {
      "cell_type": "markdown",
      "source": [
        "**Test Run**"
      ],
      "metadata": {
        "id": "qcaWIu1CituU"
      }
    },
    {
      "cell_type": "code",
      "source": [
        "fitness(x = default_parameters)"
      ],
      "metadata": {
        "colab": {
          "base_uri": "https://localhost:8080/"
        },
        "id": "GSbRE1keZkl8",
        "outputId": "79ab24fe-f4d0-46ff-8063-90662d51b4b2"
      },
      "execution_count": null,
      "outputs": [
        {
          "output_type": "stream",
          "name": "stderr",
          "text": [
            "WARNING:absl:`lr` is deprecated in Keras optimizer, please use `learning_rate` or use the legacy optimizer, e.g.,tf.keras.optimizers.legacy.Adam.\n",
            "WARNING:tensorflow:`write_grads` will be ignored in TensorFlow 2.0 for the `TensorBoard` Callback.\n"
          ]
        },
        {
          "output_type": "stream",
          "name": "stdout",
          "text": [
            "learning rate: 1.0e-05\n",
            "num_dense_layers: 1\n",
            "num_dense_nodes: 16\n",
            "activation: relu\n",
            "\n",
            "(None, 10)\n",
            "Epoch 1/3\n",
            "422/422 [==============================] - 56s 130ms/step - loss: 2.1347 - accuracy: 0.2522 - val_loss: 1.8032 - val_accuracy: 0.3038\n",
            "Epoch 2/3\n",
            "422/422 [==============================] - 57s 136ms/step - loss: 1.6181 - accuracy: 0.3842 - val_loss: 1.3678 - val_accuracy: 0.4868\n",
            "Epoch 3/3\n",
            "422/422 [==============================] - 55s 130ms/step - loss: 0.7319 - accuracy: 0.7563 - val_loss: 0.1666 - val_accuracy: 0.9578\n",
            "\n",
            "Accuracy: 95.78%\n",
            "\n"
          ]
        },
        {
          "output_type": "stream",
          "name": "stderr",
          "text": [
            "/usr/local/lib/python3.10/dist-packages/keras/src/engine/training.py:3103: UserWarning: You are saving your model as an HDF5 file via `model.save()`. This file format is considered legacy. We recommend using instead the native Keras format, e.g. `model.save('my_model.keras')`.\n",
            "  saving_api.save_model(\n"
          ]
        },
        {
          "output_type": "execute_result",
          "data": {
            "text/plain": [
              "-0.9578333497047424"
            ]
          },
          "metadata": {},
          "execution_count": 90
        }
      ]
    },
    {
      "cell_type": "markdown",
      "source": [
        "**Run Hyper-Parameter Optimization**"
      ],
      "metadata": {
        "id": "tp6pVaWJjI5p"
      }
    },
    {
      "cell_type": "code",
      "source": [
        "%%time\n",
        "search_result = gp_minimize(func=fitness,\n",
        "                            dimensions=dimensions,\n",
        "                            acq_func='EI', # Expected Improvement.\n",
        "                            n_calls=100,\n",
        "                            x0=default_parameters)"
      ],
      "metadata": {
        "colab": {
          "base_uri": "https://localhost:8080/"
        },
        "id": "d23CBSiNZzU2",
        "outputId": "1f0fd671-ecde-4e71-d433-0523a27ecc67"
      },
      "execution_count": 74,
      "outputs": [
        {
          "output_type": "stream",
          "name": "stderr",
          "text": [
            "WARNING:absl:`lr` is deprecated in Keras optimizer, please use `learning_rate` or use the legacy optimizer, e.g.,tf.keras.optimizers.legacy.Adam.\n",
            "WARNING:tensorflow:`write_grads` will be ignored in TensorFlow 2.0 for the `TensorBoard` Callback.\n"
          ]
        },
        {
          "output_type": "stream",
          "name": "stdout",
          "text": [
            "learning rate: 1.0e-05\n",
            "num_dense_layers: 1\n",
            "num_dense_nodes: 16\n",
            "activation: relu\n",
            "\n",
            "(None, 10)\n",
            "Epoch 1/3\n",
            "422/422 [==============================] - 4s 5ms/step - loss: 1.7244 - accuracy: 0.4451 - val_loss: 1.0646 - val_accuracy: 0.5827\n",
            "Epoch 2/3\n",
            "422/422 [==============================] - 2s 5ms/step - loss: 0.6557 - accuracy: 0.7911 - val_loss: 0.3313 - val_accuracy: 0.9477\n",
            "Epoch 3/3\n",
            "422/422 [==============================] - 2s 5ms/step - loss: 0.1830 - accuracy: 0.9588 - val_loss: 0.1054 - val_accuracy: 0.9728\n"
          ]
        },
        {
          "output_type": "stream",
          "name": "stderr",
          "text": [
            "WARNING:absl:`lr` is deprecated in Keras optimizer, please use `learning_rate` or use the legacy optimizer, e.g.,tf.keras.optimizers.legacy.Adam.\n",
            "WARNING:tensorflow:`write_grads` will be ignored in TensorFlow 2.0 for the `TensorBoard` Callback.\n"
          ]
        },
        {
          "output_type": "stream",
          "name": "stdout",
          "text": [
            "\n",
            "Accuracy: 97.28%\n",
            "\n",
            "learning rate: 6.9e-03\n",
            "num_dense_layers: 3\n",
            "num_dense_nodes: 186\n",
            "activation: relu\n",
            "\n",
            "(None, 10)\n",
            "Epoch 1/3\n",
            "422/422 [==============================] - 4s 6ms/step - loss: 0.3285 - accuracy: 0.9355 - val_loss: 0.0996 - val_accuracy: 0.9717\n",
            "Epoch 2/3\n",
            "422/422 [==============================] - 2s 6ms/step - loss: 0.0609 - accuracy: 0.9808 - val_loss: 0.0724 - val_accuracy: 0.9783\n",
            "Epoch 3/3\n",
            "422/422 [==============================] - 2s 5ms/step - loss: 0.0394 - accuracy: 0.9873 - val_loss: 0.0533 - val_accuracy: 0.9850\n",
            "\n",
            "Accuracy: 98.50%\n",
            "\n",
            "learning rate: 3.2e-03\n",
            "num_dense_layers: 5\n",
            "num_dense_nodes: 388\n",
            "activation: sigmoid\n",
            "\n"
          ]
        },
        {
          "output_type": "stream",
          "name": "stderr",
          "text": [
            "WARNING:absl:`lr` is deprecated in Keras optimizer, please use `learning_rate` or use the legacy optimizer, e.g.,tf.keras.optimizers.legacy.Adam.\n",
            "WARNING:tensorflow:`write_grads` will be ignored in TensorFlow 2.0 for the `TensorBoard` Callback.\n"
          ]
        },
        {
          "output_type": "stream",
          "name": "stdout",
          "text": [
            "(None, 10)\n",
            "Epoch 1/3\n",
            "422/422 [==============================] - 5s 6ms/step - loss: 0.8901 - accuracy: 0.6819 - val_loss: 0.1830 - val_accuracy: 0.9482\n",
            "Epoch 2/3\n",
            "422/422 [==============================] - 2s 6ms/step - loss: 0.1417 - accuracy: 0.9605 - val_loss: 0.0926 - val_accuracy: 0.9738\n",
            "Epoch 3/3\n",
            "422/422 [==============================] - 3s 7ms/step - loss: 0.0918 - accuracy: 0.9742 - val_loss: 0.0803 - val_accuracy: 0.9760\n"
          ]
        },
        {
          "output_type": "stream",
          "name": "stderr",
          "text": [
            "WARNING:absl:`lr` is deprecated in Keras optimizer, please use `learning_rate` or use the legacy optimizer, e.g.,tf.keras.optimizers.legacy.Adam.\n",
            "WARNING:tensorflow:`write_grads` will be ignored in TensorFlow 2.0 for the `TensorBoard` Callback.\n"
          ]
        },
        {
          "output_type": "stream",
          "name": "stdout",
          "text": [
            "\n",
            "Accuracy: 97.60%\n",
            "\n",
            "learning rate: 2.1e-05\n",
            "num_dense_layers: 5\n",
            "num_dense_nodes: 254\n",
            "activation: relu\n",
            "\n",
            "(None, 10)\n",
            "Epoch 1/3\n",
            "422/422 [==============================] - 5s 6ms/step - loss: 0.2603 - accuracy: 0.9352 - val_loss: 0.0826 - val_accuracy: 0.9748\n",
            "Epoch 2/3\n",
            "422/422 [==============================] - 2s 5ms/step - loss: 0.0565 - accuracy: 0.9826 - val_loss: 0.0691 - val_accuracy: 0.9795\n",
            "Epoch 3/3\n",
            "422/422 [==============================] - 3s 7ms/step - loss: 0.0430 - accuracy: 0.9869 - val_loss: 0.0501 - val_accuracy: 0.9850\n"
          ]
        },
        {
          "output_type": "stream",
          "name": "stderr",
          "text": [
            "WARNING:absl:`lr` is deprecated in Keras optimizer, please use `learning_rate` or use the legacy optimizer, e.g.,tf.keras.optimizers.legacy.Adam.\n",
            "WARNING:tensorflow:`write_grads` will be ignored in TensorFlow 2.0 for the `TensorBoard` Callback.\n"
          ]
        },
        {
          "output_type": "stream",
          "name": "stdout",
          "text": [
            "\n",
            "Accuracy: 98.50%\n",
            "\n",
            "learning rate: 1.7e-06\n",
            "num_dense_layers: 4\n",
            "num_dense_nodes: 93\n",
            "activation: sigmoid\n",
            "\n",
            "(None, 10)\n",
            "Epoch 1/3\n",
            "422/422 [==============================] - 5s 6ms/step - loss: 1.4333 - accuracy: 0.5104 - val_loss: 0.4305 - val_accuracy: 0.8847\n",
            "Epoch 2/3\n",
            "422/422 [==============================] - 2s 5ms/step - loss: 0.2524 - accuracy: 0.9442 - val_loss: 0.1772 - val_accuracy: 0.9585\n",
            "Epoch 3/3\n",
            "422/422 [==============================] - 2s 5ms/step - loss: 0.1201 - accuracy: 0.9709 - val_loss: 0.0978 - val_accuracy: 0.9743\n",
            "\n",
            "Accuracy: 97.43%\n",
            "\n",
            "learning rate: 4.8e-04\n",
            "num_dense_layers: 5\n",
            "num_dense_nodes: 134\n",
            "activation: relu\n",
            "\n"
          ]
        },
        {
          "output_type": "stream",
          "name": "stderr",
          "text": [
            "WARNING:absl:`lr` is deprecated in Keras optimizer, please use `learning_rate` or use the legacy optimizer, e.g.,tf.keras.optimizers.legacy.Adam.\n",
            "WARNING:tensorflow:`write_grads` will be ignored in TensorFlow 2.0 for the `TensorBoard` Callback.\n"
          ]
        },
        {
          "output_type": "stream",
          "name": "stdout",
          "text": [
            "(None, 10)\n",
            "Epoch 1/3\n",
            "422/422 [==============================] - 5s 6ms/step - loss: 0.2883 - accuracy: 0.9286 - val_loss: 0.0660 - val_accuracy: 0.9795\n",
            "Epoch 2/3\n",
            "422/422 [==============================] - 2s 5ms/step - loss: 0.0601 - accuracy: 0.9814 - val_loss: 0.0484 - val_accuracy: 0.9865\n",
            "Epoch 3/3\n",
            "422/422 [==============================] - 2s 5ms/step - loss: 0.0435 - accuracy: 0.9864 - val_loss: 0.0610 - val_accuracy: 0.9810\n"
          ]
        },
        {
          "output_type": "stream",
          "name": "stderr",
          "text": [
            "WARNING:absl:`lr` is deprecated in Keras optimizer, please use `learning_rate` or use the legacy optimizer, e.g.,tf.keras.optimizers.legacy.Adam.\n",
            "WARNING:tensorflow:`write_grads` will be ignored in TensorFlow 2.0 for the `TensorBoard` Callback.\n"
          ]
        },
        {
          "output_type": "stream",
          "name": "stdout",
          "text": [
            "\n",
            "Accuracy: 98.10%\n",
            "\n",
            "learning rate: 9.8e-05\n",
            "num_dense_layers: 5\n",
            "num_dense_nodes: 327\n",
            "activation: sigmoid\n",
            "\n",
            "(None, 10)\n",
            "Epoch 1/3\n",
            "422/422 [==============================] - 6s 7ms/step - loss: 1.1304 - accuracy: 0.5716 - val_loss: 0.2461 - val_accuracy: 0.9332\n",
            "Epoch 2/3\n",
            "422/422 [==============================] - 2s 6ms/step - loss: 0.1688 - accuracy: 0.9540 - val_loss: 0.1213 - val_accuracy: 0.9650\n",
            "Epoch 3/3\n",
            "422/422 [==============================] - 2s 6ms/step - loss: 0.0919 - accuracy: 0.9740 - val_loss: 0.0695 - val_accuracy: 0.9792\n"
          ]
        },
        {
          "output_type": "stream",
          "name": "stderr",
          "text": [
            "WARNING:absl:`lr` is deprecated in Keras optimizer, please use `learning_rate` or use the legacy optimizer, e.g.,tf.keras.optimizers.legacy.Adam.\n",
            "WARNING:tensorflow:`write_grads` will be ignored in TensorFlow 2.0 for the `TensorBoard` Callback.\n"
          ]
        },
        {
          "output_type": "stream",
          "name": "stdout",
          "text": [
            "\n",
            "Accuracy: 97.92%\n",
            "\n",
            "learning rate: 5.8e-04\n",
            "num_dense_layers: 3\n",
            "num_dense_nodes: 94\n",
            "activation: sigmoid\n",
            "\n",
            "(None, 10)\n",
            "Epoch 1/3\n",
            "422/422 [==============================] - 5s 6ms/step - loss: 1.8973 - accuracy: 0.3352 - val_loss: 0.6003 - val_accuracy: 0.9088\n",
            "Epoch 2/3\n",
            "422/422 [==============================] - 2s 5ms/step - loss: 0.2393 - accuracy: 0.9510 - val_loss: 0.1118 - val_accuracy: 0.9733\n",
            "Epoch 3/3\n",
            "422/422 [==============================] - 2s 5ms/step - loss: 0.0926 - accuracy: 0.9757 - val_loss: 0.0732 - val_accuracy: 0.9803\n",
            "\n",
            "Accuracy: 98.03%\n",
            "\n",
            "learning rate: 4.2e-03\n",
            "num_dense_layers: 3\n",
            "num_dense_nodes: 267\n",
            "activation: relu\n",
            "\n"
          ]
        },
        {
          "output_type": "stream",
          "name": "stderr",
          "text": [
            "WARNING:absl:`lr` is deprecated in Keras optimizer, please use `learning_rate` or use the legacy optimizer, e.g.,tf.keras.optimizers.legacy.Adam.\n",
            "WARNING:tensorflow:`write_grads` will be ignored in TensorFlow 2.0 for the `TensorBoard` Callback.\n"
          ]
        },
        {
          "output_type": "stream",
          "name": "stdout",
          "text": [
            "(None, 10)\n",
            "Epoch 1/3\n",
            "422/422 [==============================] - 5s 7ms/step - loss: 0.4529 - accuracy: 0.9238 - val_loss: 0.0727 - val_accuracy: 0.9787\n",
            "Epoch 2/3\n",
            "422/422 [==============================] - 2s 5ms/step - loss: 0.0585 - accuracy: 0.9817 - val_loss: 0.0574 - val_accuracy: 0.9823\n",
            "Epoch 3/3\n",
            "422/422 [==============================] - 2s 5ms/step - loss: 0.0395 - accuracy: 0.9874 - val_loss: 0.0731 - val_accuracy: 0.9815\n"
          ]
        },
        {
          "output_type": "stream",
          "name": "stderr",
          "text": [
            "WARNING:absl:`lr` is deprecated in Keras optimizer, please use `learning_rate` or use the legacy optimizer, e.g.,tf.keras.optimizers.legacy.Adam.\n",
            "WARNING:tensorflow:`write_grads` will be ignored in TensorFlow 2.0 for the `TensorBoard` Callback.\n"
          ]
        },
        {
          "output_type": "stream",
          "name": "stdout",
          "text": [
            "\n",
            "Accuracy: 98.15%\n",
            "\n",
            "learning rate: 2.4e-04\n",
            "num_dense_layers: 3\n",
            "num_dense_nodes: 481\n",
            "activation: relu\n",
            "\n",
            "(None, 10)\n",
            "Epoch 1/3\n",
            "422/422 [==============================] - 5s 7ms/step - loss: 0.7661 - accuracy: 0.9103 - val_loss: 0.0800 - val_accuracy: 0.9753\n",
            "Epoch 2/3\n",
            "422/422 [==============================] - 2s 6ms/step - loss: 0.0567 - accuracy: 0.9828 - val_loss: 0.0655 - val_accuracy: 0.9817\n",
            "Epoch 3/3\n",
            "422/422 [==============================] - 2s 5ms/step - loss: 0.0364 - accuracy: 0.9885 - val_loss: 0.0693 - val_accuracy: 0.9808\n"
          ]
        },
        {
          "output_type": "stream",
          "name": "stderr",
          "text": [
            "WARNING:absl:`lr` is deprecated in Keras optimizer, please use `learning_rate` or use the legacy optimizer, e.g.,tf.keras.optimizers.legacy.Adam.\n",
            "WARNING:tensorflow:`write_grads` will be ignored in TensorFlow 2.0 for the `TensorBoard` Callback.\n"
          ]
        },
        {
          "output_type": "stream",
          "name": "stdout",
          "text": [
            "\n",
            "Accuracy: 98.08%\n",
            "\n",
            "learning rate: 1.9e-06\n",
            "num_dense_layers: 5\n",
            "num_dense_nodes: 336\n",
            "activation: sigmoid\n",
            "\n",
            "(None, 10)\n",
            "Epoch 1/3\n",
            "422/422 [==============================] - 5s 7ms/step - loss: 0.9112 - accuracy: 0.6796 - val_loss: 0.1957 - val_accuracy: 0.9470\n",
            "Epoch 2/3\n",
            "422/422 [==============================] - 2s 6ms/step - loss: 0.1534 - accuracy: 0.9580 - val_loss: 0.1000 - val_accuracy: 0.9728\n",
            "Epoch 3/3\n",
            "422/422 [==============================] - 2s 6ms/step - loss: 0.0943 - accuracy: 0.9740 - val_loss: 0.0707 - val_accuracy: 0.9808\n",
            "\n",
            "Accuracy: 98.08%\n",
            "\n"
          ]
        },
        {
          "output_type": "stream",
          "name": "stderr",
          "text": [
            "WARNING:absl:`lr` is deprecated in Keras optimizer, please use `learning_rate` or use the legacy optimizer, e.g.,tf.keras.optimizers.legacy.Adam.\n",
            "WARNING:tensorflow:`write_grads` will be ignored in TensorFlow 2.0 for the `TensorBoard` Callback.\n"
          ]
        },
        {
          "output_type": "stream",
          "name": "stdout",
          "text": [
            "learning rate: 1.0e-06\n",
            "num_dense_layers: 4\n",
            "num_dense_nodes: 511\n",
            "activation: relu\n",
            "\n",
            "(None, 10)\n",
            "Epoch 1/3\n",
            "422/422 [==============================] - 5s 7ms/step - loss: 0.6797 - accuracy: 0.9067 - val_loss: 0.0931 - val_accuracy: 0.9705\n",
            "Epoch 2/3\n",
            "422/422 [==============================] - 3s 6ms/step - loss: 0.0632 - accuracy: 0.9804 - val_loss: 0.0629 - val_accuracy: 0.9823\n",
            "Epoch 3/3\n",
            "422/422 [==============================] - 2s 5ms/step - loss: 0.0447 - accuracy: 0.9859 - val_loss: 0.0738 - val_accuracy: 0.9792\n",
            "\n",
            "Accuracy: 97.92%\n",
            "\n"
          ]
        },
        {
          "output_type": "stream",
          "name": "stderr",
          "text": [
            "WARNING:absl:`lr` is deprecated in Keras optimizer, please use `learning_rate` or use the legacy optimizer, e.g.,tf.keras.optimizers.legacy.Adam.\n",
            "WARNING:tensorflow:`write_grads` will be ignored in TensorFlow 2.0 for the `TensorBoard` Callback.\n"
          ]
        },
        {
          "output_type": "stream",
          "name": "stdout",
          "text": [
            "learning rate: 1.0e-06\n",
            "num_dense_layers: 1\n",
            "num_dense_nodes: 213\n",
            "activation: relu\n",
            "\n",
            "(None, 10)\n",
            "Epoch 1/3\n",
            "422/422 [==============================] - 4s 5ms/step - loss: 0.6205 - accuracy: 0.9236 - val_loss: 0.0880 - val_accuracy: 0.9747\n",
            "Epoch 2/3\n",
            "422/422 [==============================] - 2s 4ms/step - loss: 0.0682 - accuracy: 0.9783 - val_loss: 0.0745 - val_accuracy: 0.9795\n",
            "Epoch 3/3\n",
            "422/422 [==============================] - 2s 5ms/step - loss: 0.0423 - accuracy: 0.9862 - val_loss: 0.0751 - val_accuracy: 0.9792\n",
            "\n",
            "Accuracy: 97.92%\n",
            "\n"
          ]
        },
        {
          "output_type": "stream",
          "name": "stderr",
          "text": [
            "WARNING:absl:`lr` is deprecated in Keras optimizer, please use `learning_rate` or use the legacy optimizer, e.g.,tf.keras.optimizers.legacy.Adam.\n",
            "WARNING:tensorflow:`write_grads` will be ignored in TensorFlow 2.0 for the `TensorBoard` Callback.\n"
          ]
        },
        {
          "output_type": "stream",
          "name": "stdout",
          "text": [
            "learning rate: 2.0e-04\n",
            "num_dense_layers: 3\n",
            "num_dense_nodes: 52\n",
            "activation: relu\n",
            "\n",
            "(None, 10)\n",
            "Epoch 1/3\n",
            "422/422 [==============================] - 5s 6ms/step - loss: 0.3257 - accuracy: 0.9188 - val_loss: 0.0949 - val_accuracy: 0.9712\n",
            "Epoch 2/3\n",
            "422/422 [==============================] - 2s 5ms/step - loss: 0.0681 - accuracy: 0.9790 - val_loss: 0.0641 - val_accuracy: 0.9825\n",
            "Epoch 3/3\n",
            "422/422 [==============================] - 2s 5ms/step - loss: 0.0472 - accuracy: 0.9852 - val_loss: 0.0598 - val_accuracy: 0.9830\n",
            "\n",
            "Accuracy: 98.30%\n",
            "\n",
            "learning rate: 6.8e-05\n",
            "num_dense_layers: 5\n",
            "num_dense_nodes: 418\n",
            "activation: relu\n",
            "\n"
          ]
        },
        {
          "output_type": "stream",
          "name": "stderr",
          "text": [
            "WARNING:absl:`lr` is deprecated in Keras optimizer, please use `learning_rate` or use the legacy optimizer, e.g.,tf.keras.optimizers.legacy.Adam.\n",
            "WARNING:tensorflow:`write_grads` will be ignored in TensorFlow 2.0 for the `TensorBoard` Callback.\n"
          ]
        },
        {
          "output_type": "stream",
          "name": "stdout",
          "text": [
            "(None, 10)\n",
            "Epoch 1/3\n",
            "422/422 [==============================] - 5s 6ms/step - loss: 0.3798 - accuracy: 0.9221 - val_loss: 0.0629 - val_accuracy: 0.9807\n",
            "Epoch 2/3\n",
            "422/422 [==============================] - 2s 6ms/step - loss: 0.0577 - accuracy: 0.9823 - val_loss: 0.0557 - val_accuracy: 0.9832\n",
            "Epoch 3/3\n",
            "422/422 [==============================] - 3s 6ms/step - loss: 0.0407 - accuracy: 0.9879 - val_loss: 0.0643 - val_accuracy: 0.9838\n",
            "\n",
            "Accuracy: 98.38%\n",
            "\n"
          ]
        },
        {
          "output_type": "stream",
          "name": "stderr",
          "text": [
            "WARNING:absl:`lr` is deprecated in Keras optimizer, please use `learning_rate` or use the legacy optimizer, e.g.,tf.keras.optimizers.legacy.Adam.\n",
            "WARNING:tensorflow:`write_grads` will be ignored in TensorFlow 2.0 for the `TensorBoard` Callback.\n"
          ]
        },
        {
          "output_type": "stream",
          "name": "stdout",
          "text": [
            "learning rate: 2.5e-04\n",
            "num_dense_layers: 2\n",
            "num_dense_nodes: 312\n",
            "activation: sigmoid\n",
            "\n",
            "(None, 10)\n",
            "Epoch 1/3\n",
            "422/422 [==============================] - 5s 5ms/step - loss: 0.5864 - accuracy: 0.8140 - val_loss: 0.1101 - val_accuracy: 0.9675\n",
            "Epoch 2/3\n",
            "422/422 [==============================] - 2s 5ms/step - loss: 0.0893 - accuracy: 0.9733 - val_loss: 0.0763 - val_accuracy: 0.9763\n",
            "Epoch 3/3\n",
            "422/422 [==============================] - 2s 5ms/step - loss: 0.0633 - accuracy: 0.9808 - val_loss: 0.0536 - val_accuracy: 0.9842\n",
            "\n",
            "Accuracy: 98.42%\n",
            "\n",
            "learning rate: 6.6e-05\n",
            "num_dense_layers: 2\n",
            "num_dense_nodes: 103\n",
            "activation: sigmoid\n",
            "\n"
          ]
        },
        {
          "output_type": "stream",
          "name": "stderr",
          "text": [
            "WARNING:absl:`lr` is deprecated in Keras optimizer, please use `learning_rate` or use the legacy optimizer, e.g.,tf.keras.optimizers.legacy.Adam.\n",
            "WARNING:tensorflow:`write_grads` will be ignored in TensorFlow 2.0 for the `TensorBoard` Callback.\n"
          ]
        },
        {
          "output_type": "stream",
          "name": "stdout",
          "text": [
            "(None, 10)\n",
            "Epoch 1/3\n",
            "422/422 [==============================] - 5s 6ms/step - loss: 0.9191 - accuracy: 0.7330 - val_loss: 0.1524 - val_accuracy: 0.9640\n",
            "Epoch 2/3\n",
            "422/422 [==============================] - 2s 5ms/step - loss: 0.1144 - accuracy: 0.9699 - val_loss: 0.0721 - val_accuracy: 0.9815\n",
            "Epoch 3/3\n",
            "422/422 [==============================] - 2s 5ms/step - loss: 0.0699 - accuracy: 0.9803 - val_loss: 0.0599 - val_accuracy: 0.9842\n",
            "\n",
            "Accuracy: 98.42%\n",
            "\n"
          ]
        },
        {
          "output_type": "stream",
          "name": "stderr",
          "text": [
            "WARNING:absl:`lr` is deprecated in Keras optimizer, please use `learning_rate` or use the legacy optimizer, e.g.,tf.keras.optimizers.legacy.Adam.\n",
            "WARNING:tensorflow:`write_grads` will be ignored in TensorFlow 2.0 for the `TensorBoard` Callback.\n"
          ]
        },
        {
          "output_type": "stream",
          "name": "stdout",
          "text": [
            "learning rate: 1.1e-06\n",
            "num_dense_layers: 2\n",
            "num_dense_nodes: 503\n",
            "activation: relu\n",
            "\n",
            "(None, 10)\n",
            "Epoch 1/3\n",
            "422/422 [==============================] - 5s 6ms/step - loss: 0.9643 - accuracy: 0.9217 - val_loss: 0.0856 - val_accuracy: 0.9722\n",
            "Epoch 2/3\n",
            "422/422 [==============================] - 2s 5ms/step - loss: 0.0603 - accuracy: 0.9811 - val_loss: 0.0663 - val_accuracy: 0.9797\n",
            "Epoch 3/3\n",
            "422/422 [==============================] - 2s 5ms/step - loss: 0.0382 - accuracy: 0.9876 - val_loss: 0.0586 - val_accuracy: 0.9843\n",
            "\n",
            "Accuracy: 98.43%\n",
            "\n"
          ]
        },
        {
          "output_type": "stream",
          "name": "stderr",
          "text": [
            "WARNING:absl:`lr` is deprecated in Keras optimizer, please use `learning_rate` or use the legacy optimizer, e.g.,tf.keras.optimizers.legacy.Adam.\n",
            "WARNING:tensorflow:`write_grads` will be ignored in TensorFlow 2.0 for the `TensorBoard` Callback.\n"
          ]
        },
        {
          "output_type": "stream",
          "name": "stdout",
          "text": [
            "learning rate: 9.9e-03\n",
            "num_dense_layers: 2\n",
            "num_dense_nodes: 39\n",
            "activation: relu\n",
            "\n",
            "(None, 10)\n",
            "Epoch 1/3\n",
            "422/422 [==============================] - 4s 7ms/step - loss: 0.3899 - accuracy: 0.9041 - val_loss: 0.1195 - val_accuracy: 0.9670\n",
            "Epoch 2/3\n",
            "422/422 [==============================] - 2s 5ms/step - loss: 0.0746 - accuracy: 0.9773 - val_loss: 0.0743 - val_accuracy: 0.9818\n",
            "Epoch 3/3\n",
            "422/422 [==============================] - 2s 5ms/step - loss: 0.0468 - accuracy: 0.9859 - val_loss: 0.0719 - val_accuracy: 0.9810\n",
            "\n",
            "Accuracy: 98.10%\n",
            "\n"
          ]
        },
        {
          "output_type": "stream",
          "name": "stderr",
          "text": [
            "WARNING:absl:`lr` is deprecated in Keras optimizer, please use `learning_rate` or use the legacy optimizer, e.g.,tf.keras.optimizers.legacy.Adam.\n",
            "WARNING:tensorflow:`write_grads` will be ignored in TensorFlow 2.0 for the `TensorBoard` Callback.\n"
          ]
        },
        {
          "output_type": "stream",
          "name": "stdout",
          "text": [
            "learning rate: 1.0e-02\n",
            "num_dense_layers: 4\n",
            "num_dense_nodes: 382\n",
            "activation: relu\n",
            "\n",
            "(None, 10)\n",
            "Epoch 1/3\n",
            "422/422 [==============================] - 5s 6ms/step - loss: 0.4464 - accuracy: 0.9281 - val_loss: 0.0489 - val_accuracy: 0.9853\n",
            "Epoch 2/3\n",
            "422/422 [==============================] - 3s 7ms/step - loss: 0.0528 - accuracy: 0.9832 - val_loss: 0.0597 - val_accuracy: 0.9840\n",
            "Epoch 3/3\n",
            "422/422 [==============================] - 2s 5ms/step - loss: 0.0370 - accuracy: 0.9881 - val_loss: 0.0567 - val_accuracy: 0.9838\n",
            "\n",
            "Accuracy: 98.38%\n",
            "\n",
            "learning rate: 4.1e-03\n",
            "num_dense_layers: 1\n",
            "num_dense_nodes: 172\n",
            "activation: sigmoid\n",
            "\n"
          ]
        },
        {
          "output_type": "stream",
          "name": "stderr",
          "text": [
            "WARNING:absl:`lr` is deprecated in Keras optimizer, please use `learning_rate` or use the legacy optimizer, e.g.,tf.keras.optimizers.legacy.Adam.\n",
            "WARNING:tensorflow:`write_grads` will be ignored in TensorFlow 2.0 for the `TensorBoard` Callback.\n"
          ]
        },
        {
          "output_type": "stream",
          "name": "stdout",
          "text": [
            "(None, 10)\n",
            "Epoch 1/3\n",
            "422/422 [==============================] - 4s 5ms/step - loss: 0.5147 - accuracy: 0.8527 - val_loss: 0.1280 - val_accuracy: 0.9685\n",
            "Epoch 2/3\n",
            "422/422 [==============================] - 2s 5ms/step - loss: 0.1031 - accuracy: 0.9706 - val_loss: 0.0772 - val_accuracy: 0.9795\n",
            "Epoch 3/3\n",
            "422/422 [==============================] - 2s 5ms/step - loss: 0.0683 - accuracy: 0.9796 - val_loss: 0.0660 - val_accuracy: 0.9802\n",
            "\n",
            "Accuracy: 98.02%\n",
            "\n",
            "learning rate: 1.0e-06\n",
            "num_dense_layers: 2\n",
            "num_dense_nodes: 405\n",
            "activation: sigmoid\n",
            "\n"
          ]
        },
        {
          "output_type": "stream",
          "name": "stderr",
          "text": [
            "WARNING:absl:`lr` is deprecated in Keras optimizer, please use `learning_rate` or use the legacy optimizer, e.g.,tf.keras.optimizers.legacy.Adam.\n",
            "WARNING:tensorflow:`write_grads` will be ignored in TensorFlow 2.0 for the `TensorBoard` Callback.\n"
          ]
        },
        {
          "output_type": "stream",
          "name": "stdout",
          "text": [
            "(None, 10)\n",
            "Epoch 1/3\n",
            "422/422 [==============================] - 4s 6ms/step - loss: 0.5361 - accuracy: 0.8239 - val_loss: 0.0940 - val_accuracy: 0.9748\n",
            "Epoch 2/3\n",
            "422/422 [==============================] - 2s 5ms/step - loss: 0.0855 - accuracy: 0.9743 - val_loss: 0.0754 - val_accuracy: 0.9775\n",
            "Epoch 3/3\n",
            "422/422 [==============================] - 3s 6ms/step - loss: 0.0589 - accuracy: 0.9818 - val_loss: 0.0456 - val_accuracy: 0.9873\n",
            "\n",
            "Accuracy: 98.73%\n",
            "\n"
          ]
        },
        {
          "output_type": "stream",
          "name": "stderr",
          "text": [
            "WARNING:absl:`lr` is deprecated in Keras optimizer, please use `learning_rate` or use the legacy optimizer, e.g.,tf.keras.optimizers.legacy.Adam.\n",
            "WARNING:tensorflow:`write_grads` will be ignored in TensorFlow 2.0 for the `TensorBoard` Callback.\n"
          ]
        },
        {
          "output_type": "stream",
          "name": "stdout",
          "text": [
            "learning rate: 1.0e-06\n",
            "num_dense_layers: 3\n",
            "num_dense_nodes: 110\n",
            "activation: sigmoid\n",
            "\n",
            "(None, 10)\n",
            "Epoch 1/3\n",
            "422/422 [==============================] - 4s 6ms/step - loss: 0.9087 - accuracy: 0.7331 - val_loss: 0.1731 - val_accuracy: 0.9578\n",
            "Epoch 2/3\n",
            "422/422 [==============================] - 2s 5ms/step - loss: 0.1214 - accuracy: 0.9680 - val_loss: 0.0910 - val_accuracy: 0.9745\n",
            "Epoch 3/3\n",
            "422/422 [==============================] - 2s 6ms/step - loss: 0.0744 - accuracy: 0.9794 - val_loss: 0.0602 - val_accuracy: 0.9818\n",
            "\n",
            "Accuracy: 98.18%\n",
            "\n"
          ]
        },
        {
          "output_type": "stream",
          "name": "stderr",
          "text": [
            "WARNING:absl:`lr` is deprecated in Keras optimizer, please use `learning_rate` or use the legacy optimizer, e.g.,tf.keras.optimizers.legacy.Adam.\n",
            "WARNING:tensorflow:`write_grads` will be ignored in TensorFlow 2.0 for the `TensorBoard` Callback.\n"
          ]
        },
        {
          "output_type": "stream",
          "name": "stdout",
          "text": [
            "learning rate: 9.9e-03\n",
            "num_dense_layers: 4\n",
            "num_dense_nodes: 76\n",
            "activation: sigmoid\n",
            "\n",
            "(None, 10)\n",
            "Epoch 1/3\n",
            "422/422 [==============================] - 5s 6ms/step - loss: 1.8505 - accuracy: 0.2605 - val_loss: 1.2647 - val_accuracy: 0.4948\n",
            "Epoch 2/3\n",
            "422/422 [==============================] - 2s 5ms/step - loss: 0.6282 - accuracy: 0.8458 - val_loss: 0.2261 - val_accuracy: 0.9575\n",
            "Epoch 3/3\n",
            "422/422 [==============================] - 3s 6ms/step - loss: 0.1654 - accuracy: 0.9642 - val_loss: 0.1105 - val_accuracy: 0.9763\n",
            "\n",
            "Accuracy: 97.63%\n",
            "\n"
          ]
        },
        {
          "output_type": "stream",
          "name": "stderr",
          "text": [
            "WARNING:absl:`lr` is deprecated in Keras optimizer, please use `learning_rate` or use the legacy optimizer, e.g.,tf.keras.optimizers.legacy.Adam.\n",
            "WARNING:tensorflow:`write_grads` will be ignored in TensorFlow 2.0 for the `TensorBoard` Callback.\n"
          ]
        },
        {
          "output_type": "stream",
          "name": "stdout",
          "text": [
            "learning rate: 1.4e-06\n",
            "num_dense_layers: 4\n",
            "num_dense_nodes: 7\n",
            "activation: relu\n",
            "\n",
            "(None, 10)\n",
            "Epoch 1/3\n",
            "422/422 [==============================] - 5s 6ms/step - loss: 1.9587 - accuracy: 0.2151 - val_loss: 1.8130 - val_accuracy: 0.2507\n",
            "Epoch 2/3\n",
            "422/422 [==============================] - 2s 5ms/step - loss: 1.7381 - accuracy: 0.2791 - val_loss: 1.6812 - val_accuracy: 0.2853\n",
            "Epoch 3/3\n",
            "422/422 [==============================] - 3s 6ms/step - loss: 1.5650 - accuracy: 0.3360 - val_loss: 1.2736 - val_accuracy: 0.4975\n",
            "\n",
            "Accuracy: 49.75%\n",
            "\n"
          ]
        },
        {
          "output_type": "stream",
          "name": "stderr",
          "text": [
            "WARNING:absl:`lr` is deprecated in Keras optimizer, please use `learning_rate` or use the legacy optimizer, e.g.,tf.keras.optimizers.legacy.Adam.\n",
            "WARNING:tensorflow:`write_grads` will be ignored in TensorFlow 2.0 for the `TensorBoard` Callback.\n"
          ]
        },
        {
          "output_type": "stream",
          "name": "stdout",
          "text": [
            "learning rate: 3.2e-04\n",
            "num_dense_layers: 1\n",
            "num_dense_nodes: 76\n",
            "activation: relu\n",
            "\n",
            "(None, 10)\n",
            "Epoch 1/3\n",
            "422/422 [==============================] - 3s 5ms/step - loss: 0.8616 - accuracy: 0.8932 - val_loss: 0.1204 - val_accuracy: 0.9642\n",
            "Epoch 2/3\n",
            "422/422 [==============================] - 2s 4ms/step - loss: 0.0855 - accuracy: 0.9741 - val_loss: 0.0663 - val_accuracy: 0.9790\n",
            "Epoch 3/3\n",
            "422/422 [==============================] - 2s 5ms/step - loss: 0.0541 - accuracy: 0.9834 - val_loss: 0.0692 - val_accuracy: 0.9812\n",
            "\n",
            "Accuracy: 98.12%\n",
            "\n"
          ]
        },
        {
          "output_type": "stream",
          "name": "stderr",
          "text": [
            "WARNING:absl:`lr` is deprecated in Keras optimizer, please use `learning_rate` or use the legacy optimizer, e.g.,tf.keras.optimizers.legacy.Adam.\n",
            "WARNING:tensorflow:`write_grads` will be ignored in TensorFlow 2.0 for the `TensorBoard` Callback.\n"
          ]
        },
        {
          "output_type": "stream",
          "name": "stdout",
          "text": [
            "learning rate: 4.4e-05\n",
            "num_dense_layers: 1\n",
            "num_dense_nodes: 21\n",
            "activation: relu\n",
            "\n",
            "(None, 10)\n",
            "Epoch 1/3\n",
            "422/422 [==============================] - 4s 6ms/step - loss: 2.1446 - accuracy: 0.2051 - val_loss: 1.9154 - val_accuracy: 0.2115\n",
            "Epoch 2/3\n",
            "422/422 [==============================] - 2s 5ms/step - loss: 1.8646 - accuracy: 0.2334 - val_loss: 1.7952 - val_accuracy: 0.2373\n",
            "Epoch 3/3\n",
            "422/422 [==============================] - 2s 4ms/step - loss: 1.4114 - accuracy: 0.4104 - val_loss: 1.2466 - val_accuracy: 0.4747\n",
            "\n",
            "Accuracy: 47.47%\n",
            "\n"
          ]
        },
        {
          "output_type": "stream",
          "name": "stderr",
          "text": [
            "WARNING:absl:`lr` is deprecated in Keras optimizer, please use `learning_rate` or use the legacy optimizer, e.g.,tf.keras.optimizers.legacy.Adam.\n",
            "WARNING:tensorflow:`write_grads` will be ignored in TensorFlow 2.0 for the `TensorBoard` Callback.\n"
          ]
        },
        {
          "output_type": "stream",
          "name": "stdout",
          "text": [
            "learning rate: 3.2e-03\n",
            "num_dense_layers: 1\n",
            "num_dense_nodes: 449\n",
            "activation: sigmoid\n",
            "\n",
            "(None, 10)\n",
            "Epoch 1/3\n",
            "422/422 [==============================] - 4s 5ms/step - loss: 0.5833 - accuracy: 0.8186 - val_loss: 0.1141 - val_accuracy: 0.9693\n",
            "Epoch 2/3\n",
            "422/422 [==============================] - 2s 5ms/step - loss: 0.0984 - accuracy: 0.9708 - val_loss: 0.0680 - val_accuracy: 0.9812\n",
            "Epoch 3/3\n",
            "422/422 [==============================] - 2s 5ms/step - loss: 0.0655 - accuracy: 0.9802 - val_loss: 0.0546 - val_accuracy: 0.9842\n",
            "\n",
            "Accuracy: 98.42%\n",
            "\n"
          ]
        },
        {
          "output_type": "stream",
          "name": "stderr",
          "text": [
            "WARNING:absl:`lr` is deprecated in Keras optimizer, please use `learning_rate` or use the legacy optimizer, e.g.,tf.keras.optimizers.legacy.Adam.\n",
            "WARNING:tensorflow:`write_grads` will be ignored in TensorFlow 2.0 for the `TensorBoard` Callback.\n"
          ]
        },
        {
          "output_type": "stream",
          "name": "stdout",
          "text": [
            "learning rate: 1.0e-06\n",
            "num_dense_layers: 1\n",
            "num_dense_nodes: 329\n",
            "activation: relu\n",
            "\n",
            "(None, 10)\n",
            "Epoch 1/3\n",
            "422/422 [==============================] - 4s 5ms/step - loss: 1.0549 - accuracy: 0.9157 - val_loss: 0.0807 - val_accuracy: 0.9740\n",
            "Epoch 2/3\n",
            "422/422 [==============================] - 2s 5ms/step - loss: 0.0628 - accuracy: 0.9805 - val_loss: 0.0645 - val_accuracy: 0.9815\n",
            "Epoch 3/3\n",
            "422/422 [==============================] - 2s 5ms/step - loss: 0.0390 - accuracy: 0.9870 - val_loss: 0.0613 - val_accuracy: 0.9830\n",
            "\n",
            "Accuracy: 98.30%\n",
            "\n"
          ]
        },
        {
          "output_type": "stream",
          "name": "stderr",
          "text": [
            "WARNING:absl:`lr` is deprecated in Keras optimizer, please use `learning_rate` or use the legacy optimizer, e.g.,tf.keras.optimizers.legacy.Adam.\n",
            "WARNING:tensorflow:`write_grads` will be ignored in TensorFlow 2.0 for the `TensorBoard` Callback.\n"
          ]
        },
        {
          "output_type": "stream",
          "name": "stdout",
          "text": [
            "learning rate: 2.5e-06\n",
            "num_dense_layers: 1\n",
            "num_dense_nodes: 288\n",
            "activation: relu\n",
            "\n",
            "(None, 10)\n",
            "Epoch 1/3\n",
            "422/422 [==============================] - 4s 5ms/step - loss: 0.9562 - accuracy: 0.9180 - val_loss: 0.0780 - val_accuracy: 0.9772\n",
            "Epoch 2/3\n",
            "422/422 [==============================] - 2s 5ms/step - loss: 0.0552 - accuracy: 0.9823 - val_loss: 0.0739 - val_accuracy: 0.9788\n",
            "Epoch 3/3\n",
            "422/422 [==============================] - 2s 5ms/step - loss: 0.0315 - accuracy: 0.9894 - val_loss: 0.0696 - val_accuracy: 0.9812\n",
            "\n",
            "Accuracy: 98.12%\n",
            "\n"
          ]
        },
        {
          "output_type": "stream",
          "name": "stderr",
          "text": [
            "WARNING:absl:`lr` is deprecated in Keras optimizer, please use `learning_rate` or use the legacy optimizer, e.g.,tf.keras.optimizers.legacy.Adam.\n",
            "WARNING:tensorflow:`write_grads` will be ignored in TensorFlow 2.0 for the `TensorBoard` Callback.\n"
          ]
        },
        {
          "output_type": "stream",
          "name": "stdout",
          "text": [
            "learning rate: 3.0e-03\n",
            "num_dense_layers: 5\n",
            "num_dense_nodes: 231\n",
            "activation: sigmoid\n",
            "\n",
            "(None, 10)\n",
            "Epoch 1/3\n",
            "422/422 [==============================] - 5s 6ms/step - loss: 1.1568 - accuracy: 0.5804 - val_loss: 0.2359 - val_accuracy: 0.9443\n",
            "Epoch 2/3\n",
            "422/422 [==============================] - 2s 6ms/step - loss: 0.1807 - accuracy: 0.9541 - val_loss: 0.1243 - val_accuracy: 0.9673\n",
            "Epoch 3/3\n",
            "422/422 [==============================] - 3s 7ms/step - loss: 0.1129 - accuracy: 0.9697 - val_loss: 0.1018 - val_accuracy: 0.9702\n",
            "\n",
            "Accuracy: 97.02%\n",
            "\n"
          ]
        },
        {
          "output_type": "stream",
          "name": "stderr",
          "text": [
            "WARNING:absl:`lr` is deprecated in Keras optimizer, please use `learning_rate` or use the legacy optimizer, e.g.,tf.keras.optimizers.legacy.Adam.\n",
            "WARNING:tensorflow:`write_grads` will be ignored in TensorFlow 2.0 for the `TensorBoard` Callback.\n"
          ]
        },
        {
          "output_type": "stream",
          "name": "stdout",
          "text": [
            "learning rate: 4.7e-06\n",
            "num_dense_layers: 5\n",
            "num_dense_nodes: 451\n",
            "activation: relu\n",
            "\n",
            "(None, 10)\n",
            "Epoch 1/3\n",
            "422/422 [==============================] - 5s 6ms/step - loss: 0.3964 - accuracy: 0.9178 - val_loss: 0.0566 - val_accuracy: 0.9832\n",
            "Epoch 2/3\n",
            "422/422 [==============================] - 2s 6ms/step - loss: 0.0556 - accuracy: 0.9834 - val_loss: 0.0526 - val_accuracy: 0.9857\n",
            "Epoch 3/3\n",
            "422/422 [==============================] - 2s 6ms/step - loss: 0.0374 - accuracy: 0.9889 - val_loss: 0.0474 - val_accuracy: 0.9862\n",
            "\n",
            "Accuracy: 98.62%\n",
            "\n"
          ]
        },
        {
          "output_type": "stream",
          "name": "stderr",
          "text": [
            "WARNING:absl:`lr` is deprecated in Keras optimizer, please use `learning_rate` or use the legacy optimizer, e.g.,tf.keras.optimizers.legacy.Adam.\n",
            "WARNING:tensorflow:`write_grads` will be ignored in TensorFlow 2.0 for the `TensorBoard` Callback.\n"
          ]
        },
        {
          "output_type": "stream",
          "name": "stdout",
          "text": [
            "learning rate: 2.0e-06\n",
            "num_dense_layers: 1\n",
            "num_dense_nodes: 148\n",
            "activation: sigmoid\n",
            "\n",
            "(None, 10)\n",
            "Epoch 1/3\n",
            "422/422 [==============================] - 4s 5ms/step - loss: 0.6082 - accuracy: 0.8279 - val_loss: 0.1384 - val_accuracy: 0.9630\n",
            "Epoch 2/3\n",
            "422/422 [==============================] - 2s 5ms/step - loss: 0.1106 - accuracy: 0.9689 - val_loss: 0.0864 - val_accuracy: 0.9763\n",
            "Epoch 3/3\n",
            "422/422 [==============================] - 2s 5ms/step - loss: 0.0715 - accuracy: 0.9792 - val_loss: 0.0670 - val_accuracy: 0.9803\n",
            "\n",
            "Accuracy: 98.03%\n",
            "\n"
          ]
        },
        {
          "output_type": "stream",
          "name": "stderr",
          "text": [
            "WARNING:absl:`lr` is deprecated in Keras optimizer, please use `learning_rate` or use the legacy optimizer, e.g.,tf.keras.optimizers.legacy.Adam.\n",
            "WARNING:tensorflow:`write_grads` will be ignored in TensorFlow 2.0 for the `TensorBoard` Callback.\n"
          ]
        },
        {
          "output_type": "stream",
          "name": "stdout",
          "text": [
            "learning rate: 7.8e-03\n",
            "num_dense_layers: 2\n",
            "num_dense_nodes: 362\n",
            "activation: relu\n",
            "\n",
            "(None, 10)\n",
            "Epoch 1/3\n",
            "422/422 [==============================] - 5s 7ms/step - loss: 0.4961 - accuracy: 0.9291 - val_loss: 0.0766 - val_accuracy: 0.9753\n",
            "Epoch 2/3\n",
            "422/422 [==============================] - 2s 5ms/step - loss: 0.0603 - accuracy: 0.9809 - val_loss: 0.0503 - val_accuracy: 0.9848\n",
            "Epoch 3/3\n",
            "422/422 [==============================] - 2s 5ms/step - loss: 0.0431 - accuracy: 0.9861 - val_loss: 0.0608 - val_accuracy: 0.9828\n",
            "\n",
            "Accuracy: 98.28%\n",
            "\n"
          ]
        },
        {
          "output_type": "stream",
          "name": "stderr",
          "text": [
            "WARNING:absl:`lr` is deprecated in Keras optimizer, please use `learning_rate` or use the legacy optimizer, e.g.,tf.keras.optimizers.legacy.Adam.\n",
            "WARNING:tensorflow:`write_grads` will be ignored in TensorFlow 2.0 for the `TensorBoard` Callback.\n"
          ]
        },
        {
          "output_type": "stream",
          "name": "stdout",
          "text": [
            "learning rate: 1.1e-03\n",
            "num_dense_layers: 1\n",
            "num_dense_nodes: 435\n",
            "activation: sigmoid\n",
            "\n",
            "(None, 10)\n",
            "Epoch 1/3\n",
            "422/422 [==============================] - 4s 6ms/step - loss: 0.6430 - accuracy: 0.7968 - val_loss: 0.1236 - val_accuracy: 0.9665\n",
            "Epoch 2/3\n",
            "422/422 [==============================] - 2s 5ms/step - loss: 0.1001 - accuracy: 0.9706 - val_loss: 0.0710 - val_accuracy: 0.9797\n",
            "Epoch 3/3\n",
            "422/422 [==============================] - 2s 5ms/step - loss: 0.0689 - accuracy: 0.9795 - val_loss: 0.0556 - val_accuracy: 0.9838\n",
            "\n",
            "Accuracy: 98.38%\n",
            "\n"
          ]
        },
        {
          "output_type": "stream",
          "name": "stderr",
          "text": [
            "WARNING:absl:`lr` is deprecated in Keras optimizer, please use `learning_rate` or use the legacy optimizer, e.g.,tf.keras.optimizers.legacy.Adam.\n",
            "WARNING:tensorflow:`write_grads` will be ignored in TensorFlow 2.0 for the `TensorBoard` Callback.\n"
          ]
        },
        {
          "output_type": "stream",
          "name": "stdout",
          "text": [
            "learning rate: 9.4e-04\n",
            "num_dense_layers: 2\n",
            "num_dense_nodes: 512\n",
            "activation: sigmoid\n",
            "\n",
            "(None, 10)\n",
            "Epoch 1/3\n",
            "422/422 [==============================] - 5s 7ms/step - loss: 0.5750 - accuracy: 0.8119 - val_loss: 0.0935 - val_accuracy: 0.9738\n",
            "Epoch 2/3\n",
            "422/422 [==============================] - 2s 5ms/step - loss: 0.0846 - accuracy: 0.9736 - val_loss: 0.0770 - val_accuracy: 0.9753\n",
            "Epoch 3/3\n",
            "422/422 [==============================] - 2s 5ms/step - loss: 0.0589 - accuracy: 0.9815 - val_loss: 0.0483 - val_accuracy: 0.9855\n",
            "\n",
            "Accuracy: 98.55%\n",
            "\n"
          ]
        },
        {
          "output_type": "stream",
          "name": "stderr",
          "text": [
            "WARNING:absl:`lr` is deprecated in Keras optimizer, please use `learning_rate` or use the legacy optimizer, e.g.,tf.keras.optimizers.legacy.Adam.\n",
            "WARNING:tensorflow:`write_grads` will be ignored in TensorFlow 2.0 for the `TensorBoard` Callback.\n"
          ]
        },
        {
          "output_type": "stream",
          "name": "stdout",
          "text": [
            "learning rate: 1.9e-06\n",
            "num_dense_layers: 4\n",
            "num_dense_nodes: 427\n",
            "activation: relu\n",
            "\n",
            "(None, 10)\n",
            "Epoch 1/3\n",
            "422/422 [==============================] - 5s 6ms/step - loss: 0.4353 - accuracy: 0.9252 - val_loss: 0.0615 - val_accuracy: 0.9813\n",
            "Epoch 2/3\n",
            "422/422 [==============================] - 3s 7ms/step - loss: 0.0560 - accuracy: 0.9822 - val_loss: 0.0528 - val_accuracy: 0.9853\n",
            "Epoch 3/3\n",
            "422/422 [==============================] - 2s 5ms/step - loss: 0.0407 - accuracy: 0.9875 - val_loss: 0.0691 - val_accuracy: 0.9822\n",
            "\n",
            "Accuracy: 98.22%\n",
            "\n"
          ]
        },
        {
          "output_type": "stream",
          "name": "stderr",
          "text": [
            "WARNING:absl:`lr` is deprecated in Keras optimizer, please use `learning_rate` or use the legacy optimizer, e.g.,tf.keras.optimizers.legacy.Adam.\n",
            "WARNING:tensorflow:`write_grads` will be ignored in TensorFlow 2.0 for the `TensorBoard` Callback.\n"
          ]
        },
        {
          "output_type": "stream",
          "name": "stdout",
          "text": [
            "learning rate: 7.3e-03\n",
            "num_dense_layers: 1\n",
            "num_dense_nodes: 133\n",
            "activation: relu\n",
            "\n",
            "(None, 10)\n",
            "Epoch 1/3\n",
            "422/422 [==============================] - 4s 5ms/step - loss: 0.5324 - accuracy: 0.9215 - val_loss: 0.0787 - val_accuracy: 0.9762\n",
            "Epoch 2/3\n",
            "422/422 [==============================] - 2s 5ms/step - loss: 0.0557 - accuracy: 0.9822 - val_loss: 0.0689 - val_accuracy: 0.9812\n",
            "Epoch 3/3\n",
            "422/422 [==============================] - 2s 5ms/step - loss: 0.0354 - accuracy: 0.9884 - val_loss: 0.0657 - val_accuracy: 0.9827\n",
            "\n",
            "Accuracy: 98.27%\n",
            "\n"
          ]
        },
        {
          "output_type": "stream",
          "name": "stderr",
          "text": [
            "WARNING:absl:`lr` is deprecated in Keras optimizer, please use `learning_rate` or use the legacy optimizer, e.g.,tf.keras.optimizers.legacy.Adam.\n",
            "WARNING:tensorflow:`write_grads` will be ignored in TensorFlow 2.0 for the `TensorBoard` Callback.\n"
          ]
        },
        {
          "output_type": "stream",
          "name": "stdout",
          "text": [
            "learning rate: 6.7e-05\n",
            "num_dense_layers: 3\n",
            "num_dense_nodes: 372\n",
            "activation: relu\n",
            "\n",
            "(None, 10)\n",
            "Epoch 1/3\n",
            "422/422 [==============================] - 4s 6ms/step - loss: 0.6953 - accuracy: 0.9194 - val_loss: 0.0936 - val_accuracy: 0.9735\n",
            "Epoch 2/3\n",
            "422/422 [==============================] - 2s 6ms/step - loss: 0.0588 - accuracy: 0.9815 - val_loss: 0.0632 - val_accuracy: 0.9798\n",
            "Epoch 3/3\n",
            "422/422 [==============================] - 2s 6ms/step - loss: 0.0379 - accuracy: 0.9876 - val_loss: 0.0630 - val_accuracy: 0.9833\n",
            "\n",
            "Accuracy: 98.33%\n",
            "\n"
          ]
        },
        {
          "output_type": "stream",
          "name": "stderr",
          "text": [
            "WARNING:absl:`lr` is deprecated in Keras optimizer, please use `learning_rate` or use the legacy optimizer, e.g.,tf.keras.optimizers.legacy.Adam.\n",
            "WARNING:tensorflow:`write_grads` will be ignored in TensorFlow 2.0 for the `TensorBoard` Callback.\n"
          ]
        },
        {
          "output_type": "stream",
          "name": "stdout",
          "text": [
            "learning rate: 2.8e-04\n",
            "num_dense_layers: 2\n",
            "num_dense_nodes: 494\n",
            "activation: relu\n",
            "\n",
            "(None, 10)\n",
            "Epoch 1/3\n",
            "422/422 [==============================] - 4s 6ms/step - loss: 0.9497 - accuracy: 0.9119 - val_loss: 0.0862 - val_accuracy: 0.9730\n",
            "Epoch 2/3\n",
            "422/422 [==============================] - 2s 5ms/step - loss: 0.0595 - accuracy: 0.9816 - val_loss: 0.0706 - val_accuracy: 0.9790\n",
            "Epoch 3/3\n",
            "422/422 [==============================] - 2s 6ms/step - loss: 0.0365 - accuracy: 0.9885 - val_loss: 0.0685 - val_accuracy: 0.9810\n",
            "\n",
            "Accuracy: 98.10%\n",
            "\n"
          ]
        },
        {
          "output_type": "stream",
          "name": "stderr",
          "text": [
            "WARNING:absl:`lr` is deprecated in Keras optimizer, please use `learning_rate` or use the legacy optimizer, e.g.,tf.keras.optimizers.legacy.Adam.\n",
            "WARNING:tensorflow:`write_grads` will be ignored in TensorFlow 2.0 for the `TensorBoard` Callback.\n"
          ]
        },
        {
          "output_type": "stream",
          "name": "stdout",
          "text": [
            "learning rate: 5.3e-04\n",
            "num_dense_layers: 2\n",
            "num_dense_nodes: 278\n",
            "activation: relu\n",
            "\n",
            "(None, 10)\n",
            "Epoch 1/3\n",
            "422/422 [==============================] - 4s 6ms/step - loss: 0.6500 - accuracy: 0.9266 - val_loss: 0.0795 - val_accuracy: 0.9763\n",
            "Epoch 2/3\n",
            "422/422 [==============================] - 2s 5ms/step - loss: 0.0543 - accuracy: 0.9830 - val_loss: 0.0668 - val_accuracy: 0.9815\n",
            "Epoch 3/3\n",
            "422/422 [==============================] - 3s 6ms/step - loss: 0.0370 - accuracy: 0.9880 - val_loss: 0.0718 - val_accuracy: 0.9812\n",
            "\n",
            "Accuracy: 98.12%\n",
            "\n"
          ]
        },
        {
          "output_type": "stream",
          "name": "stderr",
          "text": [
            "WARNING:absl:`lr` is deprecated in Keras optimizer, please use `learning_rate` or use the legacy optimizer, e.g.,tf.keras.optimizers.legacy.Adam.\n",
            "WARNING:tensorflow:`write_grads` will be ignored in TensorFlow 2.0 for the `TensorBoard` Callback.\n"
          ]
        },
        {
          "output_type": "stream",
          "name": "stdout",
          "text": [
            "learning rate: 1.0e-04\n",
            "num_dense_layers: 1\n",
            "num_dense_nodes: 303\n",
            "activation: sigmoid\n",
            "\n",
            "(None, 10)\n",
            "Epoch 1/3\n",
            "422/422 [==============================] - 4s 5ms/step - loss: 0.5280 - accuracy: 0.8397 - val_loss: 0.1153 - val_accuracy: 0.9688\n",
            "Epoch 2/3\n",
            "422/422 [==============================] - 2s 5ms/step - loss: 0.0992 - accuracy: 0.9707 - val_loss: 0.0688 - val_accuracy: 0.9825\n",
            "Epoch 3/3\n",
            "422/422 [==============================] - 2s 5ms/step - loss: 0.0658 - accuracy: 0.9804 - val_loss: 0.0591 - val_accuracy: 0.9838\n",
            "\n",
            "Accuracy: 98.38%\n",
            "\n"
          ]
        },
        {
          "output_type": "stream",
          "name": "stderr",
          "text": [
            "WARNING:absl:`lr` is deprecated in Keras optimizer, please use `learning_rate` or use the legacy optimizer, e.g.,tf.keras.optimizers.legacy.Adam.\n",
            "WARNING:tensorflow:`write_grads` will be ignored in TensorFlow 2.0 for the `TensorBoard` Callback.\n"
          ]
        },
        {
          "output_type": "stream",
          "name": "stdout",
          "text": [
            "learning rate: 6.4e-03\n",
            "num_dense_layers: 5\n",
            "num_dense_nodes: 124\n",
            "activation: relu\n",
            "\n",
            "(None, 10)\n",
            "Epoch 1/3\n",
            "422/422 [==============================] - 5s 6ms/step - loss: 0.3076 - accuracy: 0.9172 - val_loss: 0.1030 - val_accuracy: 0.9702\n",
            "Epoch 2/3\n",
            "422/422 [==============================] - 2s 5ms/step - loss: 0.0617 - accuracy: 0.9810 - val_loss: 0.0515 - val_accuracy: 0.9857\n",
            "Epoch 3/3\n",
            "422/422 [==============================] - 3s 6ms/step - loss: 0.0414 - accuracy: 0.9873 - val_loss: 0.0567 - val_accuracy: 0.9852\n",
            "\n",
            "Accuracy: 98.52%\n",
            "\n"
          ]
        },
        {
          "output_type": "stream",
          "name": "stderr",
          "text": [
            "WARNING:absl:`lr` is deprecated in Keras optimizer, please use `learning_rate` or use the legacy optimizer, e.g.,tf.keras.optimizers.legacy.Adam.\n",
            "WARNING:tensorflow:`write_grads` will be ignored in TensorFlow 2.0 for the `TensorBoard` Callback.\n"
          ]
        },
        {
          "output_type": "stream",
          "name": "stdout",
          "text": [
            "learning rate: 1.0e-06\n",
            "num_dense_layers: 5\n",
            "num_dense_nodes: 195\n",
            "activation: relu\n",
            "\n",
            "(None, 10)\n",
            "Epoch 1/3\n",
            "422/422 [==============================] - 5s 6ms/step - loss: 0.3979 - accuracy: 0.9156 - val_loss: 0.0814 - val_accuracy: 0.9738\n",
            "Epoch 2/3\n",
            "422/422 [==============================] - 2s 5ms/step - loss: 0.0620 - accuracy: 0.9804 - val_loss: 0.0657 - val_accuracy: 0.9787\n",
            "Epoch 3/3\n",
            "422/422 [==============================] - 3s 7ms/step - loss: 0.0422 - accuracy: 0.9867 - val_loss: 0.0596 - val_accuracy: 0.9830\n",
            "\n",
            "Accuracy: 98.30%\n",
            "\n"
          ]
        },
        {
          "output_type": "stream",
          "name": "stderr",
          "text": [
            "WARNING:absl:`lr` is deprecated in Keras optimizer, please use `learning_rate` or use the legacy optimizer, e.g.,tf.keras.optimizers.legacy.Adam.\n",
            "WARNING:tensorflow:`write_grads` will be ignored in TensorFlow 2.0 for the `TensorBoard` Callback.\n"
          ]
        },
        {
          "output_type": "stream",
          "name": "stdout",
          "text": [
            "learning rate: 1.6e-03\n",
            "num_dense_layers: 1\n",
            "num_dense_nodes: 512\n",
            "activation: sigmoid\n",
            "\n",
            "(None, 10)\n",
            "Epoch 1/3\n",
            "422/422 [==============================] - 3s 5ms/step - loss: 0.5560 - accuracy: 0.8275 - val_loss: 0.1057 - val_accuracy: 0.9710\n",
            "Epoch 2/3\n",
            "422/422 [==============================] - 2s 5ms/step - loss: 0.0938 - accuracy: 0.9718 - val_loss: 0.0740 - val_accuracy: 0.9802\n",
            "Epoch 3/3\n",
            "422/422 [==============================] - 2s 5ms/step - loss: 0.0638 - accuracy: 0.9804 - val_loss: 0.0537 - val_accuracy: 0.9853\n",
            "\n",
            "Accuracy: 98.53%\n",
            "\n"
          ]
        },
        {
          "output_type": "stream",
          "name": "stderr",
          "text": [
            "WARNING:absl:`lr` is deprecated in Keras optimizer, please use `learning_rate` or use the legacy optimizer, e.g.,tf.keras.optimizers.legacy.Adam.\n",
            "WARNING:tensorflow:`write_grads` will be ignored in TensorFlow 2.0 for the `TensorBoard` Callback.\n"
          ]
        },
        {
          "output_type": "stream",
          "name": "stdout",
          "text": [
            "learning rate: 9.1e-03\n",
            "num_dense_layers: 4\n",
            "num_dense_nodes: 204\n",
            "activation: sigmoid\n",
            "\n",
            "(None, 10)\n",
            "Epoch 1/3\n",
            "422/422 [==============================] - 4s 6ms/step - loss: 1.0317 - accuracy: 0.6438 - val_loss: 0.1802 - val_accuracy: 0.9513\n",
            "Epoch 2/3\n",
            "422/422 [==============================] - 2s 5ms/step - loss: 0.1298 - accuracy: 0.9648 - val_loss: 0.0916 - val_accuracy: 0.9743\n",
            "Epoch 3/3\n",
            "422/422 [==============================] - 3s 6ms/step - loss: 0.0785 - accuracy: 0.9781 - val_loss: 0.0656 - val_accuracy: 0.9813\n",
            "\n",
            "Accuracy: 98.13%\n",
            "\n"
          ]
        },
        {
          "output_type": "stream",
          "name": "stderr",
          "text": [
            "WARNING:absl:`lr` is deprecated in Keras optimizer, please use `learning_rate` or use the legacy optimizer, e.g.,tf.keras.optimizers.legacy.Adam.\n"
          ]
        },
        {
          "output_type": "stream",
          "name": "stdout",
          "text": [
            "learning rate: 2.8e-04\n",
            "num_dense_layers: 5\n",
            "num_dense_nodes: 245\n",
            "activation: relu\n",
            "\n"
          ]
        },
        {
          "output_type": "stream",
          "name": "stderr",
          "text": [
            "WARNING:tensorflow:`write_grads` will be ignored in TensorFlow 2.0 for the `TensorBoard` Callback.\n"
          ]
        },
        {
          "output_type": "stream",
          "name": "stdout",
          "text": [
            "(None, 10)\n",
            "Epoch 1/3\n",
            "422/422 [==============================] - 5s 6ms/step - loss: 0.2763 - accuracy: 0.9310 - val_loss: 0.0569 - val_accuracy: 0.9838\n",
            "Epoch 2/3\n",
            "422/422 [==============================] - 2s 5ms/step - loss: 0.0606 - accuracy: 0.9814 - val_loss: 0.0565 - val_accuracy: 0.9835\n",
            "Epoch 3/3\n",
            "422/422 [==============================] - 2s 5ms/step - loss: 0.0401 - accuracy: 0.9874 - val_loss: 0.0612 - val_accuracy: 0.9840\n",
            "\n",
            "Accuracy: 98.40%\n",
            "\n"
          ]
        },
        {
          "output_type": "stream",
          "name": "stderr",
          "text": [
            "WARNING:absl:`lr` is deprecated in Keras optimizer, please use `learning_rate` or use the legacy optimizer, e.g.,tf.keras.optimizers.legacy.Adam.\n",
            "WARNING:tensorflow:`write_grads` will be ignored in TensorFlow 2.0 for the `TensorBoard` Callback.\n"
          ]
        },
        {
          "output_type": "stream",
          "name": "stdout",
          "text": [
            "learning rate: 2.9e-05\n",
            "num_dense_layers: 1\n",
            "num_dense_nodes: 62\n",
            "activation: relu\n",
            "\n",
            "(None, 10)\n",
            "Epoch 1/3\n",
            "422/422 [==============================] - 4s 5ms/step - loss: 1.0694 - accuracy: 0.8784 - val_loss: 0.1267 - val_accuracy: 0.9642\n",
            "Epoch 2/3\n",
            "422/422 [==============================] - 2s 5ms/step - loss: 0.0948 - accuracy: 0.9717 - val_loss: 0.0845 - val_accuracy: 0.9747\n",
            "Epoch 3/3\n",
            "422/422 [==============================] - 2s 5ms/step - loss: 0.0589 - accuracy: 0.9820 - val_loss: 0.0917 - val_accuracy: 0.9735\n",
            "\n",
            "Accuracy: 97.35%\n",
            "\n"
          ]
        },
        {
          "output_type": "stream",
          "name": "stderr",
          "text": [
            "WARNING:absl:`lr` is deprecated in Keras optimizer, please use `learning_rate` or use the legacy optimizer, e.g.,tf.keras.optimizers.legacy.Adam.\n",
            "WARNING:tensorflow:`write_grads` will be ignored in TensorFlow 2.0 for the `TensorBoard` Callback.\n"
          ]
        },
        {
          "output_type": "stream",
          "name": "stdout",
          "text": [
            "learning rate: 1.2e-03\n",
            "num_dense_layers: 1\n",
            "num_dense_nodes: 397\n",
            "activation: relu\n",
            "\n",
            "(None, 10)\n",
            "Epoch 1/3\n",
            "422/422 [==============================] - 4s 5ms/step - loss: 0.8713 - accuracy: 0.9264 - val_loss: 0.0716 - val_accuracy: 0.9788\n",
            "Epoch 2/3\n",
            "422/422 [==============================] - 2s 5ms/step - loss: 0.0538 - accuracy: 0.9829 - val_loss: 0.0614 - val_accuracy: 0.9812\n",
            "Epoch 3/3\n",
            "422/422 [==============================] - 2s 5ms/step - loss: 0.0338 - accuracy: 0.9888 - val_loss: 0.0642 - val_accuracy: 0.9817\n",
            "\n",
            "Accuracy: 98.17%\n",
            "\n"
          ]
        },
        {
          "output_type": "stream",
          "name": "stderr",
          "text": [
            "WARNING:absl:`lr` is deprecated in Keras optimizer, please use `learning_rate` or use the legacy optimizer, e.g.,tf.keras.optimizers.legacy.Adam.\n",
            "WARNING:tensorflow:`write_grads` will be ignored in TensorFlow 2.0 for the `TensorBoard` Callback.\n"
          ]
        },
        {
          "output_type": "stream",
          "name": "stdout",
          "text": [
            "learning rate: 5.7e-05\n",
            "num_dense_layers: 2\n",
            "num_dense_nodes: 159\n",
            "activation: sigmoid\n",
            "\n",
            "(None, 10)\n",
            "Epoch 1/3\n",
            "422/422 [==============================] - 5s 6ms/step - loss: 0.6949 - accuracy: 0.8001 - val_loss: 0.1233 - val_accuracy: 0.9687\n",
            "Epoch 2/3\n",
            "422/422 [==============================] - 2s 5ms/step - loss: 0.1019 - accuracy: 0.9711 - val_loss: 0.0858 - val_accuracy: 0.9750\n",
            "Epoch 3/3\n",
            "422/422 [==============================] - 2s 5ms/step - loss: 0.0712 - accuracy: 0.9790 - val_loss: 0.0661 - val_accuracy: 0.9803\n",
            "\n",
            "Accuracy: 98.03%\n",
            "\n"
          ]
        },
        {
          "output_type": "stream",
          "name": "stderr",
          "text": [
            "WARNING:absl:`lr` is deprecated in Keras optimizer, please use `learning_rate` or use the legacy optimizer, e.g.,tf.keras.optimizers.legacy.Adam.\n",
            "WARNING:tensorflow:`write_grads` will be ignored in TensorFlow 2.0 for the `TensorBoard` Callback.\n"
          ]
        },
        {
          "output_type": "stream",
          "name": "stdout",
          "text": [
            "learning rate: 5.0e-04\n",
            "num_dense_layers: 4\n",
            "num_dense_nodes: 352\n",
            "activation: relu\n",
            "\n",
            "(None, 10)\n",
            "Epoch 1/3\n",
            "422/422 [==============================] - 5s 6ms/step - loss: 0.4237 - accuracy: 0.9286 - val_loss: 0.0722 - val_accuracy: 0.9783\n",
            "Epoch 2/3\n",
            "422/422 [==============================] - 2s 5ms/step - loss: 0.0543 - accuracy: 0.9832 - val_loss: 0.0557 - val_accuracy: 0.9842\n",
            "Epoch 3/3\n",
            "422/422 [==============================] - 2s 5ms/step - loss: 0.0390 - accuracy: 0.9878 - val_loss: 0.0652 - val_accuracy: 0.9845\n",
            "\n",
            "Accuracy: 98.45%\n",
            "\n"
          ]
        },
        {
          "output_type": "stream",
          "name": "stderr",
          "text": [
            "WARNING:absl:`lr` is deprecated in Keras optimizer, please use `learning_rate` or use the legacy optimizer, e.g.,tf.keras.optimizers.legacy.Adam.\n",
            "WARNING:tensorflow:`write_grads` will be ignored in TensorFlow 2.0 for the `TensorBoard` Callback.\n"
          ]
        },
        {
          "output_type": "stream",
          "name": "stdout",
          "text": [
            "learning rate: 6.3e-04\n",
            "num_dense_layers: 1\n",
            "num_dense_nodes: 461\n",
            "activation: sigmoid\n",
            "\n",
            "(None, 10)\n",
            "Epoch 1/3\n",
            "422/422 [==============================] - 4s 6ms/step - loss: 0.6407 - accuracy: 0.7994 - val_loss: 0.1396 - val_accuracy: 0.9597\n",
            "Epoch 2/3\n",
            "422/422 [==============================] - 2s 5ms/step - loss: 0.1097 - accuracy: 0.9666 - val_loss: 0.0787 - val_accuracy: 0.9792\n",
            "Epoch 3/3\n",
            "422/422 [==============================] - 2s 5ms/step - loss: 0.0733 - accuracy: 0.9776 - val_loss: 0.0556 - val_accuracy: 0.9840\n",
            "\n",
            "Accuracy: 98.40%\n",
            "\n"
          ]
        },
        {
          "output_type": "stream",
          "name": "stderr",
          "text": [
            "WARNING:absl:`lr` is deprecated in Keras optimizer, please use `learning_rate` or use the legacy optimizer, e.g.,tf.keras.optimizers.legacy.Adam.\n",
            "WARNING:tensorflow:`write_grads` will be ignored in TensorFlow 2.0 for the `TensorBoard` Callback.\n"
          ]
        },
        {
          "output_type": "stream",
          "name": "stdout",
          "text": [
            "learning rate: 2.5e-05\n",
            "num_dense_layers: 2\n",
            "num_dense_nodes: 471\n",
            "activation: sigmoid\n",
            "\n",
            "(None, 10)\n",
            "Epoch 1/3\n",
            "422/422 [==============================] - 4s 7ms/step - loss: 0.5622 - accuracy: 0.8142 - val_loss: 0.0902 - val_accuracy: 0.9740\n",
            "Epoch 2/3\n",
            "422/422 [==============================] - 2s 5ms/step - loss: 0.0843 - accuracy: 0.9739 - val_loss: 0.0696 - val_accuracy: 0.9782\n",
            "Epoch 3/3\n",
            "422/422 [==============================] - 2s 5ms/step - loss: 0.0596 - accuracy: 0.9816 - val_loss: 0.0539 - val_accuracy: 0.9843\n",
            "\n",
            "Accuracy: 98.43%\n",
            "\n"
          ]
        },
        {
          "output_type": "stream",
          "name": "stderr",
          "text": [
            "WARNING:absl:`lr` is deprecated in Keras optimizer, please use `learning_rate` or use the legacy optimizer, e.g.,tf.keras.optimizers.legacy.Adam.\n",
            "WARNING:tensorflow:`write_grads` will be ignored in TensorFlow 2.0 for the `TensorBoard` Callback.\n"
          ]
        },
        {
          "output_type": "stream",
          "name": "stdout",
          "text": [
            "learning rate: 2.5e-05\n",
            "num_dense_layers: 1\n",
            "num_dense_nodes: 344\n",
            "activation: relu\n",
            "\n",
            "(None, 10)\n",
            "Epoch 1/3\n",
            "422/422 [==============================] - 4s 5ms/step - loss: 1.0729 - accuracy: 0.9293 - val_loss: 0.0862 - val_accuracy: 0.9725\n",
            "Epoch 2/3\n",
            "422/422 [==============================] - 3s 7ms/step - loss: 0.0575 - accuracy: 0.9816 - val_loss: 0.0641 - val_accuracy: 0.9810\n",
            "Epoch 3/3\n",
            "422/422 [==============================] - 2s 5ms/step - loss: 0.0379 - accuracy: 0.9880 - val_loss: 0.0668 - val_accuracy: 0.9827\n",
            "\n",
            "Accuracy: 98.27%\n",
            "\n"
          ]
        },
        {
          "output_type": "stream",
          "name": "stderr",
          "text": [
            "WARNING:absl:`lr` is deprecated in Keras optimizer, please use `learning_rate` or use the legacy optimizer, e.g.,tf.keras.optimizers.legacy.Adam.\n",
            "WARNING:tensorflow:`write_grads` will be ignored in TensorFlow 2.0 for the `TensorBoard` Callback.\n"
          ]
        },
        {
          "output_type": "stream",
          "name": "stdout",
          "text": [
            "learning rate: 5.4e-04\n",
            "num_dense_layers: 5\n",
            "num_dense_nodes: 296\n",
            "activation: relu\n",
            "\n",
            "(None, 10)\n",
            "Epoch 1/3\n",
            "422/422 [==============================] - 5s 7ms/step - loss: 0.3466 - accuracy: 0.9254 - val_loss: 0.0918 - val_accuracy: 0.9705\n",
            "Epoch 2/3\n",
            "422/422 [==============================] - 3s 7ms/step - loss: 0.0568 - accuracy: 0.9826 - val_loss: 0.0462 - val_accuracy: 0.9868\n",
            "Epoch 3/3\n",
            "422/422 [==============================] - 3s 6ms/step - loss: 0.0424 - accuracy: 0.9871 - val_loss: 0.0667 - val_accuracy: 0.9783\n",
            "\n",
            "Accuracy: 97.83%\n",
            "\n"
          ]
        },
        {
          "output_type": "stream",
          "name": "stderr",
          "text": [
            "WARNING:absl:`lr` is deprecated in Keras optimizer, please use `learning_rate` or use the legacy optimizer, e.g.,tf.keras.optimizers.legacy.Adam.\n",
            "WARNING:tensorflow:`write_grads` will be ignored in TensorFlow 2.0 for the `TensorBoard` Callback.\n"
          ]
        },
        {
          "output_type": "stream",
          "name": "stdout",
          "text": [
            "learning rate: 8.8e-03\n",
            "num_dense_layers: 2\n",
            "num_dense_nodes: 222\n",
            "activation: relu\n",
            "\n",
            "(None, 10)\n",
            "Epoch 1/3\n",
            "422/422 [==============================] - 4s 6ms/step - loss: 0.5424 - accuracy: 0.9258 - val_loss: 0.0682 - val_accuracy: 0.9795\n",
            "Epoch 2/3\n",
            "422/422 [==============================] - 2s 5ms/step - loss: 0.0548 - accuracy: 0.9837 - val_loss: 0.0777 - val_accuracy: 0.9763\n",
            "Epoch 3/3\n",
            "422/422 [==============================] - 2s 5ms/step - loss: 0.0353 - accuracy: 0.9886 - val_loss: 0.0539 - val_accuracy: 0.9858\n",
            "\n",
            "Accuracy: 98.58%\n",
            "\n"
          ]
        },
        {
          "output_type": "stream",
          "name": "stderr",
          "text": [
            "WARNING:absl:`lr` is deprecated in Keras optimizer, please use `learning_rate` or use the legacy optimizer, e.g.,tf.keras.optimizers.legacy.Adam.\n",
            "WARNING:tensorflow:`write_grads` will be ignored in TensorFlow 2.0 for the `TensorBoard` Callback.\n"
          ]
        },
        {
          "output_type": "stream",
          "name": "stdout",
          "text": [
            "learning rate: 8.0e-06\n",
            "num_dense_layers: 4\n",
            "num_dense_nodes: 179\n",
            "activation: relu\n",
            "\n",
            "(None, 10)\n",
            "Epoch 1/3\n",
            "422/422 [==============================] - 5s 6ms/step - loss: 0.3189 - accuracy: 0.9219 - val_loss: 0.0988 - val_accuracy: 0.9723\n",
            "Epoch 2/3\n",
            "422/422 [==============================] - 2s 5ms/step - loss: 0.0595 - accuracy: 0.9821 - val_loss: 0.0621 - val_accuracy: 0.9802\n",
            "Epoch 3/3\n",
            "422/422 [==============================] - 3s 7ms/step - loss: 0.0411 - accuracy: 0.9872 - val_loss: 0.0530 - val_accuracy: 0.9862\n",
            "\n",
            "Accuracy: 98.62%\n",
            "\n"
          ]
        },
        {
          "output_type": "stream",
          "name": "stderr",
          "text": [
            "WARNING:absl:`lr` is deprecated in Keras optimizer, please use `learning_rate` or use the legacy optimizer, e.g.,tf.keras.optimizers.legacy.Adam.\n",
            "WARNING:tensorflow:`write_grads` will be ignored in TensorFlow 2.0 for the `TensorBoard` Callback.\n"
          ]
        },
        {
          "output_type": "stream",
          "name": "stdout",
          "text": [
            "learning rate: 2.7e-03\n",
            "num_dense_layers: 1\n",
            "num_dense_nodes: 104\n",
            "activation: relu\n",
            "\n",
            "(None, 10)\n",
            "Epoch 1/3\n",
            "422/422 [==============================] - 4s 5ms/step - loss: 0.7132 - accuracy: 0.9110 - val_loss: 0.0885 - val_accuracy: 0.9753\n",
            "Epoch 2/3\n",
            "422/422 [==============================] - 2s 5ms/step - loss: 0.0709 - accuracy: 0.9786 - val_loss: 0.0750 - val_accuracy: 0.9770\n",
            "Epoch 3/3\n",
            "422/422 [==============================] - 2s 4ms/step - loss: 0.0446 - accuracy: 0.9860 - val_loss: 0.0597 - val_accuracy: 0.9825\n",
            "\n",
            "Accuracy: 98.25%\n",
            "\n"
          ]
        },
        {
          "output_type": "stream",
          "name": "stderr",
          "text": [
            "WARNING:absl:`lr` is deprecated in Keras optimizer, please use `learning_rate` or use the legacy optimizer, e.g.,tf.keras.optimizers.legacy.Adam.\n",
            "WARNING:tensorflow:`write_grads` will be ignored in TensorFlow 2.0 for the `TensorBoard` Callback.\n"
          ]
        },
        {
          "output_type": "stream",
          "name": "stdout",
          "text": [
            "learning rate: 1.8e-05\n",
            "num_dense_layers: 5\n",
            "num_dense_nodes: 45\n",
            "activation: sigmoid\n",
            "\n",
            "(None, 10)\n",
            "Epoch 1/3\n",
            "422/422 [==============================] - 5s 6ms/step - loss: 2.0368 - accuracy: 0.2110 - val_loss: 1.5323 - val_accuracy: 0.4040\n",
            "Epoch 2/3\n",
            "422/422 [==============================] - 2s 6ms/step - loss: 1.2486 - accuracy: 0.5139 - val_loss: 1.0479 - val_accuracy: 0.5502\n",
            "Epoch 3/3\n",
            "422/422 [==============================] - 3s 7ms/step - loss: 0.8955 - accuracy: 0.6412 - val_loss: 0.5978 - val_accuracy: 0.7958\n",
            "\n",
            "Accuracy: 79.58%\n",
            "\n"
          ]
        },
        {
          "output_type": "stream",
          "name": "stderr",
          "text": [
            "WARNING:absl:`lr` is deprecated in Keras optimizer, please use `learning_rate` or use the legacy optimizer, e.g.,tf.keras.optimizers.legacy.Adam.\n",
            "WARNING:tensorflow:`write_grads` will be ignored in TensorFlow 2.0 for the `TensorBoard` Callback.\n"
          ]
        },
        {
          "output_type": "stream",
          "name": "stdout",
          "text": [
            "learning rate: 1.0e-02\n",
            "num_dense_layers: 1\n",
            "num_dense_nodes: 116\n",
            "activation: relu\n",
            "\n",
            "(None, 10)\n",
            "Epoch 1/3\n",
            "422/422 [==============================] - 3s 5ms/step - loss: 0.8844 - accuracy: 0.9145 - val_loss: 0.0835 - val_accuracy: 0.9758\n",
            "Epoch 2/3\n",
            "422/422 [==============================] - 2s 4ms/step - loss: 0.0670 - accuracy: 0.9793 - val_loss: 0.0592 - val_accuracy: 0.9827\n",
            "Epoch 3/3\n",
            "422/422 [==============================] - 2s 5ms/step - loss: 0.0414 - accuracy: 0.9870 - val_loss: 0.0645 - val_accuracy: 0.9823\n",
            "\n",
            "Accuracy: 98.23%\n",
            "\n"
          ]
        },
        {
          "output_type": "stream",
          "name": "stderr",
          "text": [
            "WARNING:absl:`lr` is deprecated in Keras optimizer, please use `learning_rate` or use the legacy optimizer, e.g.,tf.keras.optimizers.legacy.Adam.\n",
            "WARNING:tensorflow:`write_grads` will be ignored in TensorFlow 2.0 for the `TensorBoard` Callback.\n"
          ]
        },
        {
          "output_type": "stream",
          "name": "stdout",
          "text": [
            "learning rate: 1.6e-06\n",
            "num_dense_layers: 5\n",
            "num_dense_nodes: 512\n",
            "activation: relu\n",
            "\n",
            "(None, 10)\n",
            "Epoch 1/3\n",
            "422/422 [==============================] - 5s 6ms/step - loss: 0.4664 - accuracy: 0.9185 - val_loss: 0.0892 - val_accuracy: 0.9717\n",
            "Epoch 2/3\n",
            "422/422 [==============================] - 2s 6ms/step - loss: 0.0655 - accuracy: 0.9811 - val_loss: 0.0648 - val_accuracy: 0.9800\n",
            "Epoch 3/3\n",
            "422/422 [==============================] - 3s 6ms/step - loss: 0.0459 - accuracy: 0.9860 - val_loss: 0.0500 - val_accuracy: 0.9865\n",
            "\n",
            "Accuracy: 98.65%\n",
            "\n"
          ]
        },
        {
          "output_type": "stream",
          "name": "stderr",
          "text": [
            "WARNING:absl:`lr` is deprecated in Keras optimizer, please use `learning_rate` or use the legacy optimizer, e.g.,tf.keras.optimizers.legacy.Adam.\n",
            "WARNING:tensorflow:`write_grads` will be ignored in TensorFlow 2.0 for the `TensorBoard` Callback.\n"
          ]
        },
        {
          "output_type": "stream",
          "name": "stdout",
          "text": [
            "learning rate: 2.9e-03\n",
            "num_dense_layers: 1\n",
            "num_dense_nodes: 56\n",
            "activation: relu\n",
            "\n",
            "(None, 10)\n",
            "Epoch 1/3\n",
            "422/422 [==============================] - 3s 5ms/step - loss: 0.5587 - accuracy: 0.9006 - val_loss: 0.0895 - val_accuracy: 0.9720\n",
            "Epoch 2/3\n",
            "422/422 [==============================] - 2s 4ms/step - loss: 0.0696 - accuracy: 0.9790 - val_loss: 0.0595 - val_accuracy: 0.9812\n",
            "Epoch 3/3\n",
            "422/422 [==============================] - 2s 5ms/step - loss: 0.0434 - accuracy: 0.9860 - val_loss: 0.0654 - val_accuracy: 0.9802\n",
            "\n",
            "Accuracy: 98.02%\n",
            "\n"
          ]
        },
        {
          "output_type": "stream",
          "name": "stderr",
          "text": [
            "WARNING:absl:`lr` is deprecated in Keras optimizer, please use `learning_rate` or use the legacy optimizer, e.g.,tf.keras.optimizers.legacy.Adam.\n",
            "WARNING:tensorflow:`write_grads` will be ignored in TensorFlow 2.0 for the `TensorBoard` Callback.\n"
          ]
        },
        {
          "output_type": "stream",
          "name": "stdout",
          "text": [
            "learning rate: 2.8e-03\n",
            "num_dense_layers: 1\n",
            "num_dense_nodes: 411\n",
            "activation: relu\n",
            "\n",
            "(None, 10)\n",
            "Epoch 1/3\n",
            "422/422 [==============================] - 4s 6ms/step - loss: 0.6718 - accuracy: 0.9278 - val_loss: 0.0816 - val_accuracy: 0.9747\n",
            "Epoch 2/3\n",
            "422/422 [==============================] - 2s 5ms/step - loss: 0.0463 - accuracy: 0.9857 - val_loss: 0.0710 - val_accuracy: 0.9778\n",
            "Epoch 3/3\n",
            "422/422 [==============================] - 2s 5ms/step - loss: 0.0285 - accuracy: 0.9907 - val_loss: 0.0476 - val_accuracy: 0.9852\n",
            "\n",
            "Accuracy: 98.52%\n",
            "\n"
          ]
        },
        {
          "output_type": "stream",
          "name": "stderr",
          "text": [
            "WARNING:absl:`lr` is deprecated in Keras optimizer, please use `learning_rate` or use the legacy optimizer, e.g.,tf.keras.optimizers.legacy.Adam.\n",
            "WARNING:tensorflow:`write_grads` will be ignored in TensorFlow 2.0 for the `TensorBoard` Callback.\n"
          ]
        },
        {
          "output_type": "stream",
          "name": "stdout",
          "text": [
            "learning rate: 1.1e-05\n",
            "num_dense_layers: 1\n",
            "num_dense_nodes: 260\n",
            "activation: sigmoid\n",
            "\n",
            "(None, 10)\n",
            "Epoch 1/3\n",
            "422/422 [==============================] - 4s 7ms/step - loss: 0.7520 - accuracy: 0.7662 - val_loss: 0.1678 - val_accuracy: 0.9497\n",
            "Epoch 2/3\n",
            "422/422 [==============================] - 2s 5ms/step - loss: 0.1233 - accuracy: 0.9640 - val_loss: 0.0910 - val_accuracy: 0.9733\n",
            "Epoch 3/3\n",
            "422/422 [==============================] - 2s 5ms/step - loss: 0.0855 - accuracy: 0.9744 - val_loss: 0.0713 - val_accuracy: 0.9772\n",
            "\n",
            "Accuracy: 97.72%\n",
            "\n"
          ]
        },
        {
          "output_type": "stream",
          "name": "stderr",
          "text": [
            "WARNING:absl:`lr` is deprecated in Keras optimizer, please use `learning_rate` or use the legacy optimizer, e.g.,tf.keras.optimizers.legacy.Adam.\n",
            "WARNING:tensorflow:`write_grads` will be ignored in TensorFlow 2.0 for the `TensorBoard` Callback.\n"
          ]
        },
        {
          "output_type": "stream",
          "name": "stdout",
          "text": [
            "learning rate: 1.2e-06\n",
            "num_dense_layers: 3\n",
            "num_dense_nodes: 319\n",
            "activation: relu\n",
            "\n",
            "(None, 10)\n",
            "Epoch 1/3\n",
            "422/422 [==============================] - 5s 7ms/step - loss: 0.4228 - accuracy: 0.9332 - val_loss: 0.0726 - val_accuracy: 0.9772\n",
            "Epoch 2/3\n",
            "422/422 [==============================] - 2s 5ms/step - loss: 0.0501 - accuracy: 0.9843 - val_loss: 0.0565 - val_accuracy: 0.9830\n",
            "Epoch 3/3\n",
            "422/422 [==============================] - 2s 5ms/step - loss: 0.0348 - accuracy: 0.9888 - val_loss: 0.0631 - val_accuracy: 0.9812\n",
            "\n",
            "Accuracy: 98.12%\n",
            "\n"
          ]
        },
        {
          "output_type": "stream",
          "name": "stderr",
          "text": [
            "WARNING:absl:`lr` is deprecated in Keras optimizer, please use `learning_rate` or use the legacy optimizer, e.g.,tf.keras.optimizers.legacy.Adam.\n",
            "WARNING:tensorflow:`write_grads` will be ignored in TensorFlow 2.0 for the `TensorBoard` Callback.\n"
          ]
        },
        {
          "output_type": "stream",
          "name": "stdout",
          "text": [
            "learning rate: 1.0e-06\n",
            "num_dense_layers: 1\n",
            "num_dense_nodes: 69\n",
            "activation: relu\n",
            "\n",
            "(None, 10)\n",
            "Epoch 1/3\n",
            "422/422 [==============================] - 4s 6ms/step - loss: 0.6097 - accuracy: 0.8984 - val_loss: 0.1009 - val_accuracy: 0.9697\n",
            "Epoch 2/3\n",
            "422/422 [==============================] - 2s 5ms/step - loss: 0.0703 - accuracy: 0.9789 - val_loss: 0.0684 - val_accuracy: 0.9783\n",
            "Epoch 3/3\n",
            "422/422 [==============================] - 2s 4ms/step - loss: 0.0413 - accuracy: 0.9876 - val_loss: 0.0502 - val_accuracy: 0.9842\n",
            "\n",
            "Accuracy: 98.42%\n",
            "\n"
          ]
        },
        {
          "output_type": "stream",
          "name": "stderr",
          "text": [
            "WARNING:absl:`lr` is deprecated in Keras optimizer, please use `learning_rate` or use the legacy optimizer, e.g.,tf.keras.optimizers.legacy.Adam.\n",
            "WARNING:tensorflow:`write_grads` will be ignored in TensorFlow 2.0 for the `TensorBoard` Callback.\n"
          ]
        },
        {
          "output_type": "stream",
          "name": "stdout",
          "text": [
            "learning rate: 1.1e-03\n",
            "num_dense_layers: 5\n",
            "num_dense_nodes: 442\n",
            "activation: relu\n",
            "\n",
            "(None, 10)\n",
            "Epoch 1/3\n",
            "422/422 [==============================] - 5s 7ms/step - loss: 0.3555 - accuracy: 0.9287 - val_loss: 0.0689 - val_accuracy: 0.9793\n",
            "Epoch 2/3\n",
            "422/422 [==============================] - 2s 6ms/step - loss: 0.0565 - accuracy: 0.9835 - val_loss: 0.0578 - val_accuracy: 0.9827\n",
            "Epoch 3/3\n",
            "422/422 [==============================] - 2s 6ms/step - loss: 0.0444 - accuracy: 0.9867 - val_loss: 0.0574 - val_accuracy: 0.9833\n",
            "\n",
            "Accuracy: 98.33%\n",
            "\n"
          ]
        },
        {
          "output_type": "stream",
          "name": "stderr",
          "text": [
            "WARNING:absl:`lr` is deprecated in Keras optimizer, please use `learning_rate` or use the legacy optimizer, e.g.,tf.keras.optimizers.legacy.Adam.\n",
            "WARNING:tensorflow:`write_grads` will be ignored in TensorFlow 2.0 for the `TensorBoard` Callback.\n"
          ]
        },
        {
          "output_type": "stream",
          "name": "stdout",
          "text": [
            "learning rate: 2.7e-06\n",
            "num_dense_layers: 3\n",
            "num_dense_nodes: 487\n",
            "activation: sigmoid\n",
            "\n",
            "(None, 10)\n",
            "Epoch 1/3\n",
            "422/422 [==============================] - 5s 7ms/step - loss: 0.6465 - accuracy: 0.7796 - val_loss: 0.1136 - val_accuracy: 0.9660\n",
            "Epoch 2/3\n",
            "422/422 [==============================] - 2s 5ms/step - loss: 0.0872 - accuracy: 0.9730 - val_loss: 0.0637 - val_accuracy: 0.9778\n",
            "Epoch 3/3\n",
            "422/422 [==============================] - 2s 5ms/step - loss: 0.0601 - accuracy: 0.9816 - val_loss: 0.0532 - val_accuracy: 0.9832\n",
            "\n",
            "Accuracy: 98.32%\n",
            "\n"
          ]
        },
        {
          "output_type": "stream",
          "name": "stderr",
          "text": [
            "WARNING:absl:`lr` is deprecated in Keras optimizer, please use `learning_rate` or use the legacy optimizer, e.g.,tf.keras.optimizers.legacy.Adam.\n",
            "WARNING:tensorflow:`write_grads` will be ignored in TensorFlow 2.0 for the `TensorBoard` Callback.\n"
          ]
        },
        {
          "output_type": "stream",
          "name": "stdout",
          "text": [
            "learning rate: 1.8e-04\n",
            "num_dense_layers: 1\n",
            "num_dense_nodes: 238\n",
            "activation: relu\n",
            "\n",
            "(None, 10)\n",
            "Epoch 1/3\n",
            "422/422 [==============================] - 4s 5ms/step - loss: 0.7187 - accuracy: 0.9241 - val_loss: 0.0781 - val_accuracy: 0.9765\n",
            "Epoch 2/3\n",
            "422/422 [==============================] - 2s 5ms/step - loss: 0.0585 - accuracy: 0.9817 - val_loss: 0.0657 - val_accuracy: 0.9813\n",
            "Epoch 3/3\n",
            "422/422 [==============================] - 2s 5ms/step - loss: 0.0369 - accuracy: 0.9883 - val_loss: 0.0705 - val_accuracy: 0.9810\n",
            "\n",
            "Accuracy: 98.10%\n",
            "\n"
          ]
        },
        {
          "output_type": "stream",
          "name": "stderr",
          "text": [
            "WARNING:absl:`lr` is deprecated in Keras optimizer, please use `learning_rate` or use the legacy optimizer, e.g.,tf.keras.optimizers.legacy.Adam.\n",
            "WARNING:tensorflow:`write_grads` will be ignored in TensorFlow 2.0 for the `TensorBoard` Callback.\n"
          ]
        },
        {
          "output_type": "stream",
          "name": "stdout",
          "text": [
            "learning rate: 7.5e-03\n",
            "num_dense_layers: 1\n",
            "num_dense_nodes: 36\n",
            "activation: relu\n",
            "\n",
            "(None, 10)\n",
            "Epoch 1/3\n",
            "422/422 [==============================] - 3s 5ms/step - loss: 0.6711 - accuracy: 0.8863 - val_loss: 0.1281 - val_accuracy: 0.9637\n",
            "Epoch 2/3\n",
            "422/422 [==============================] - 2s 5ms/step - loss: 0.0950 - accuracy: 0.9729 - val_loss: 0.0853 - val_accuracy: 0.9768\n",
            "Epoch 3/3\n",
            "422/422 [==============================] - 2s 5ms/step - loss: 0.0579 - accuracy: 0.9828 - val_loss: 0.0938 - val_accuracy: 0.9753\n",
            "\n",
            "Accuracy: 97.53%\n",
            "\n"
          ]
        },
        {
          "output_type": "stream",
          "name": "stderr",
          "text": [
            "WARNING:absl:`lr` is deprecated in Keras optimizer, please use `learning_rate` or use the legacy optimizer, e.g.,tf.keras.optimizers.legacy.Adam.\n",
            "WARNING:tensorflow:`write_grads` will be ignored in TensorFlow 2.0 for the `TensorBoard` Callback.\n"
          ]
        },
        {
          "output_type": "stream",
          "name": "stdout",
          "text": [
            "learning rate: 1.6e-06\n",
            "num_dense_layers: 5\n",
            "num_dense_nodes: 165\n",
            "activation: relu\n",
            "\n",
            "(None, 10)\n",
            "Epoch 1/3\n",
            "422/422 [==============================] - 5s 6ms/step - loss: 0.2819 - accuracy: 0.9294 - val_loss: 0.0778 - val_accuracy: 0.9773\n",
            "Epoch 2/3\n",
            "422/422 [==============================] - 2s 6ms/step - loss: 0.0623 - accuracy: 0.9809 - val_loss: 0.0722 - val_accuracy: 0.9800\n",
            "Epoch 3/3\n",
            "422/422 [==============================] - 3s 6ms/step - loss: 0.0440 - accuracy: 0.9866 - val_loss: 0.0534 - val_accuracy: 0.9858\n",
            "\n",
            "Accuracy: 98.58%\n",
            "\n"
          ]
        },
        {
          "output_type": "stream",
          "name": "stderr",
          "text": [
            "WARNING:absl:`lr` is deprecated in Keras optimizer, please use `learning_rate` or use the legacy optimizer, e.g.,tf.keras.optimizers.legacy.Adam.\n",
            "WARNING:tensorflow:`write_grads` will be ignored in TensorFlow 2.0 for the `TensorBoard` Callback.\n"
          ]
        },
        {
          "output_type": "stream",
          "name": "stdout",
          "text": [
            "learning rate: 6.2e-06\n",
            "num_dense_layers: 1\n",
            "num_dense_nodes: 83\n",
            "activation: relu\n",
            "\n",
            "(None, 10)\n",
            "Epoch 1/3\n",
            "422/422 [==============================] - 3s 5ms/step - loss: 0.5816 - accuracy: 0.9120 - val_loss: 0.0971 - val_accuracy: 0.9715\n",
            "Epoch 2/3\n",
            "422/422 [==============================] - 2s 4ms/step - loss: 0.0677 - accuracy: 0.9796 - val_loss: 0.0773 - val_accuracy: 0.9793\n",
            "Epoch 3/3\n",
            "422/422 [==============================] - 2s 5ms/step - loss: 0.0432 - accuracy: 0.9869 - val_loss: 0.0571 - val_accuracy: 0.9835\n",
            "\n",
            "Accuracy: 98.35%\n",
            "\n"
          ]
        },
        {
          "output_type": "stream",
          "name": "stderr",
          "text": [
            "WARNING:absl:`lr` is deprecated in Keras optimizer, please use `learning_rate` or use the legacy optimizer, e.g.,tf.keras.optimizers.legacy.Adam.\n",
            "WARNING:tensorflow:`write_grads` will be ignored in TensorFlow 2.0 for the `TensorBoard` Callback.\n"
          ]
        },
        {
          "output_type": "stream",
          "name": "stdout",
          "text": [
            "learning rate: 6.8e-03\n",
            "num_dense_layers: 3\n",
            "num_dense_nodes: 142\n",
            "activation: relu\n",
            "\n",
            "(None, 10)\n",
            "Epoch 1/3\n",
            "422/422 [==============================] - 5s 7ms/step - loss: 0.4484 - accuracy: 0.9196 - val_loss: 0.0953 - val_accuracy: 0.9698\n",
            "Epoch 2/3\n",
            "422/422 [==============================] - 2s 5ms/step - loss: 0.0642 - accuracy: 0.9803 - val_loss: 0.0773 - val_accuracy: 0.9757\n",
            "Epoch 3/3\n",
            "422/422 [==============================] - 2s 5ms/step - loss: 0.0458 - accuracy: 0.9857 - val_loss: 0.0493 - val_accuracy: 0.9850\n",
            "\n",
            "Accuracy: 98.50%\n",
            "\n"
          ]
        },
        {
          "output_type": "stream",
          "name": "stderr",
          "text": [
            "WARNING:absl:`lr` is deprecated in Keras optimizer, please use `learning_rate` or use the legacy optimizer, e.g.,tf.keras.optimizers.legacy.Adam.\n",
            "WARNING:tensorflow:`write_grads` will be ignored in TensorFlow 2.0 for the `TensorBoard` Callback.\n"
          ]
        },
        {
          "output_type": "stream",
          "name": "stdout",
          "text": [
            "learning rate: 1.3e-06\n",
            "num_dense_layers: 5\n",
            "num_dense_nodes: 273\n",
            "activation: sigmoid\n",
            "\n",
            "(None, 10)\n",
            "Epoch 1/3\n",
            "422/422 [==============================] - 6s 8ms/step - loss: 1.0188 - accuracy: 0.6399 - val_loss: 0.2402 - val_accuracy: 0.9405\n",
            "Epoch 2/3\n",
            "422/422 [==============================] - 3s 6ms/step - loss: 0.1843 - accuracy: 0.9531 - val_loss: 0.1361 - val_accuracy: 0.9645\n",
            "Epoch 3/3\n",
            "422/422 [==============================] - 2s 6ms/step - loss: 0.1121 - accuracy: 0.9700 - val_loss: 0.0905 - val_accuracy: 0.9752\n",
            "\n",
            "Accuracy: 97.52%\n",
            "\n"
          ]
        },
        {
          "output_type": "stream",
          "name": "stderr",
          "text": [
            "WARNING:absl:`lr` is deprecated in Keras optimizer, please use `learning_rate` or use the legacy optimizer, e.g.,tf.keras.optimizers.legacy.Adam.\n",
            "WARNING:tensorflow:`write_grads` will be ignored in TensorFlow 2.0 for the `TensorBoard` Callback.\n"
          ]
        },
        {
          "output_type": "stream",
          "name": "stdout",
          "text": [
            "learning rate: 1.4e-06\n",
            "num_dense_layers: 5\n",
            "num_dense_nodes: 466\n",
            "activation: relu\n",
            "\n",
            "(None, 10)\n",
            "Epoch 1/3\n",
            "422/422 [==============================] - 6s 8ms/step - loss: 0.3593 - accuracy: 0.9209 - val_loss: 0.0777 - val_accuracy: 0.9785\n",
            "Epoch 2/3\n",
            "422/422 [==============================] - 2s 6ms/step - loss: 0.0579 - accuracy: 0.9824 - val_loss: 0.0676 - val_accuracy: 0.9788\n",
            "Epoch 3/3\n",
            "422/422 [==============================] - 2s 6ms/step - loss: 0.0427 - accuracy: 0.9872 - val_loss: 0.0752 - val_accuracy: 0.9822\n",
            "\n",
            "Accuracy: 98.22%\n",
            "\n"
          ]
        },
        {
          "output_type": "stream",
          "name": "stderr",
          "text": [
            "WARNING:absl:`lr` is deprecated in Keras optimizer, please use `learning_rate` or use the legacy optimizer, e.g.,tf.keras.optimizers.legacy.Adam.\n",
            "WARNING:tensorflow:`write_grads` will be ignored in TensorFlow 2.0 for the `TensorBoard` Callback.\n"
          ]
        },
        {
          "output_type": "stream",
          "name": "stdout",
          "text": [
            "learning rate: 2.0e-05\n",
            "num_dense_layers: 1\n",
            "num_dense_nodes: 377\n",
            "activation: sigmoid\n",
            "\n",
            "(None, 10)\n",
            "Epoch 1/3\n",
            "422/422 [==============================] - 4s 5ms/step - loss: 0.5745 - accuracy: 0.8248 - val_loss: 0.1212 - val_accuracy: 0.9667\n",
            "Epoch 2/3\n",
            "422/422 [==============================] - 2s 6ms/step - loss: 0.0971 - accuracy: 0.9711 - val_loss: 0.0714 - val_accuracy: 0.9797\n",
            "Epoch 3/3\n",
            "422/422 [==============================] - 2s 5ms/step - loss: 0.0647 - accuracy: 0.9803 - val_loss: 0.0551 - val_accuracy: 0.9847\n",
            "\n",
            "Accuracy: 98.47%\n",
            "\n"
          ]
        },
        {
          "output_type": "stream",
          "name": "stderr",
          "text": [
            "WARNING:absl:`lr` is deprecated in Keras optimizer, please use `learning_rate` or use the legacy optimizer, e.g.,tf.keras.optimizers.legacy.Adam.\n",
            "WARNING:tensorflow:`write_grads` will be ignored in TensorFlow 2.0 for the `TensorBoard` Callback.\n"
          ]
        },
        {
          "output_type": "stream",
          "name": "stdout",
          "text": [
            "learning rate: 6.8e-05\n",
            "num_dense_layers: 5\n",
            "num_dense_nodes: 357\n",
            "activation: sigmoid\n",
            "\n",
            "(None, 10)\n",
            "Epoch 1/3\n",
            "422/422 [==============================] - 5s 7ms/step - loss: 1.2050 - accuracy: 0.5466 - val_loss: 0.2816 - val_accuracy: 0.9257\n",
            "Epoch 2/3\n",
            "422/422 [==============================] - 3s 7ms/step - loss: 0.1993 - accuracy: 0.9460 - val_loss: 0.1301 - val_accuracy: 0.9630\n",
            "Epoch 3/3\n",
            "422/422 [==============================] - 3s 6ms/step - loss: 0.1083 - accuracy: 0.9700 - val_loss: 0.0827 - val_accuracy: 0.9765\n",
            "\n",
            "Accuracy: 97.65%\n",
            "\n"
          ]
        },
        {
          "output_type": "stream",
          "name": "stderr",
          "text": [
            "WARNING:absl:`lr` is deprecated in Keras optimizer, please use `learning_rate` or use the legacy optimizer, e.g.,tf.keras.optimizers.legacy.Adam.\n",
            "WARNING:tensorflow:`write_grads` will be ignored in TensorFlow 2.0 for the `TensorBoard` Callback.\n"
          ]
        },
        {
          "output_type": "stream",
          "name": "stdout",
          "text": [
            "learning rate: 5.9e-03\n",
            "num_dense_layers: 4\n",
            "num_dense_nodes: 153\n",
            "activation: relu\n",
            "\n",
            "(None, 10)\n",
            "Epoch 1/3\n",
            "422/422 [==============================] - 5s 6ms/step - loss: 0.2858 - accuracy: 0.9285 - val_loss: 0.0810 - val_accuracy: 0.9755\n",
            "Epoch 2/3\n",
            "422/422 [==============================] - 2s 5ms/step - loss: 0.0629 - accuracy: 0.9807 - val_loss: 0.0632 - val_accuracy: 0.9798\n",
            "Epoch 3/3\n",
            "422/422 [==============================] - 3s 6ms/step - loss: 0.0453 - accuracy: 0.9860 - val_loss: 0.0570 - val_accuracy: 0.9825\n",
            "\n",
            "Accuracy: 98.25%\n",
            "\n"
          ]
        },
        {
          "output_type": "stream",
          "name": "stderr",
          "text": [
            "WARNING:absl:`lr` is deprecated in Keras optimizer, please use `learning_rate` or use the legacy optimizer, e.g.,tf.keras.optimizers.legacy.Adam.\n",
            "WARNING:tensorflow:`write_grads` will be ignored in TensorFlow 2.0 for the `TensorBoard` Callback.\n"
          ]
        },
        {
          "output_type": "stream",
          "name": "stdout",
          "text": [
            "learning rate: 3.5e-06\n",
            "num_dense_layers: 4\n",
            "num_dense_nodes: 367\n",
            "activation: sigmoid\n",
            "\n",
            "(None, 10)\n",
            "Epoch 1/3\n",
            "422/422 [==============================] - 5s 6ms/step - loss: 0.8715 - accuracy: 0.6880 - val_loss: 0.1479 - val_accuracy: 0.9535\n",
            "Epoch 2/3\n",
            "422/422 [==============================] - 2s 5ms/step - loss: 0.1161 - accuracy: 0.9657 - val_loss: 0.0819 - val_accuracy: 0.9780\n",
            "Epoch 3/3\n",
            "422/422 [==============================] - 3s 6ms/step - loss: 0.0807 - accuracy: 0.9760 - val_loss: 0.0676 - val_accuracy: 0.9803\n",
            "\n",
            "Accuracy: 98.03%\n",
            "\n"
          ]
        },
        {
          "output_type": "stream",
          "name": "stderr",
          "text": [
            "WARNING:absl:`lr` is deprecated in Keras optimizer, please use `learning_rate` or use the legacy optimizer, e.g.,tf.keras.optimizers.legacy.Adam.\n",
            "WARNING:tensorflow:`write_grads` will be ignored in TensorFlow 2.0 for the `TensorBoard` Callback.\n"
          ]
        },
        {
          "output_type": "stream",
          "name": "stdout",
          "text": [
            "learning rate: 2.6e-03\n",
            "num_dense_layers: 5\n",
            "num_dense_nodes: 283\n",
            "activation: sigmoid\n",
            "\n",
            "(None, 10)\n",
            "Epoch 1/3\n",
            "422/422 [==============================] - 6s 7ms/step - loss: 1.0394 - accuracy: 0.6256 - val_loss: 0.1880 - val_accuracy: 0.9523\n",
            "Epoch 2/3\n",
            "422/422 [==============================] - 2s 6ms/step - loss: 0.1521 - accuracy: 0.9614 - val_loss: 0.1032 - val_accuracy: 0.9737\n",
            "Epoch 3/3\n",
            "422/422 [==============================] - 3s 7ms/step - loss: 0.0994 - accuracy: 0.9731 - val_loss: 0.0751 - val_accuracy: 0.9792\n",
            "\n",
            "Accuracy: 97.92%\n",
            "\n"
          ]
        },
        {
          "output_type": "stream",
          "name": "stderr",
          "text": [
            "WARNING:absl:`lr` is deprecated in Keras optimizer, please use `learning_rate` or use the legacy optimizer, e.g.,tf.keras.optimizers.legacy.Adam.\n",
            "WARNING:tensorflow:`write_grads` will be ignored in TensorFlow 2.0 for the `TensorBoard` Callback.\n"
          ]
        },
        {
          "output_type": "stream",
          "name": "stdout",
          "text": [
            "learning rate: 1.4e-06\n",
            "num_dense_layers: 5\n",
            "num_dense_nodes: 476\n",
            "activation: relu\n",
            "\n",
            "(None, 10)\n",
            "Epoch 1/3\n",
            "422/422 [==============================] - 6s 6ms/step - loss: 0.3545 - accuracy: 0.9257 - val_loss: 0.0701 - val_accuracy: 0.9795\n",
            "Epoch 2/3\n",
            "422/422 [==============================] - 3s 7ms/step - loss: 0.0564 - accuracy: 0.9833 - val_loss: 0.0551 - val_accuracy: 0.9863\n",
            "Epoch 3/3\n",
            "422/422 [==============================] - 3s 6ms/step - loss: 0.0414 - accuracy: 0.9875 - val_loss: 0.0431 - val_accuracy: 0.9862\n",
            "\n",
            "Accuracy: 98.62%\n",
            "\n"
          ]
        },
        {
          "output_type": "stream",
          "name": "stderr",
          "text": [
            "WARNING:absl:`lr` is deprecated in Keras optimizer, please use `learning_rate` or use the legacy optimizer, e.g.,tf.keras.optimizers.legacy.Adam.\n",
            "WARNING:tensorflow:`write_grads` will be ignored in TensorFlow 2.0 for the `TensorBoard` Callback.\n"
          ]
        },
        {
          "output_type": "stream",
          "name": "stdout",
          "text": [
            "learning rate: 2.5e-03\n",
            "num_dense_layers: 1\n",
            "num_dense_nodes: 456\n",
            "activation: sigmoid\n",
            "\n",
            "(None, 10)\n",
            "Epoch 1/3\n",
            "422/422 [==============================] - 4s 6ms/step - loss: 0.7225 - accuracy: 0.7734 - val_loss: 0.1558 - val_accuracy: 0.9583\n",
            "Epoch 2/3\n",
            "422/422 [==============================] - 2s 5ms/step - loss: 0.1282 - accuracy: 0.9614 - val_loss: 0.0948 - val_accuracy: 0.9722\n",
            "Epoch 3/3\n",
            "422/422 [==============================] - 2s 6ms/step - loss: 0.0849 - accuracy: 0.9739 - val_loss: 0.0614 - val_accuracy: 0.9822\n",
            "\n",
            "Accuracy: 98.22%\n",
            "\n"
          ]
        },
        {
          "output_type": "stream",
          "name": "stderr",
          "text": [
            "WARNING:absl:`lr` is deprecated in Keras optimizer, please use `learning_rate` or use the legacy optimizer, e.g.,tf.keras.optimizers.legacy.Adam.\n",
            "WARNING:tensorflow:`write_grads` will be ignored in TensorFlow 2.0 for the `TensorBoard` Callback.\n"
          ]
        },
        {
          "output_type": "stream",
          "name": "stdout",
          "text": [
            "learning rate: 1.9e-04\n",
            "num_dense_layers: 5\n",
            "num_dense_nodes: 499\n",
            "activation: sigmoid\n",
            "\n",
            "(None, 10)\n",
            "Epoch 1/3\n",
            "422/422 [==============================] - 5s 7ms/step - loss: 1.3040 - accuracy: 0.4914 - val_loss: 0.3114 - val_accuracy: 0.9115\n",
            "Epoch 2/3\n",
            "422/422 [==============================] - 3s 7ms/step - loss: 0.1646 - accuracy: 0.9530 - val_loss: 0.1095 - val_accuracy: 0.9692\n",
            "Epoch 3/3\n",
            "422/422 [==============================] - 3s 7ms/step - loss: 0.0972 - accuracy: 0.9714 - val_loss: 0.0919 - val_accuracy: 0.9742\n",
            "\n",
            "Accuracy: 97.42%\n",
            "\n"
          ]
        },
        {
          "output_type": "stream",
          "name": "stderr",
          "text": [
            "WARNING:absl:`lr` is deprecated in Keras optimizer, please use `learning_rate` or use the legacy optimizer, e.g.,tf.keras.optimizers.legacy.Adam.\n",
            "WARNING:tensorflow:`write_grads` will be ignored in TensorFlow 2.0 for the `TensorBoard` Callback.\n"
          ]
        },
        {
          "output_type": "stream",
          "name": "stdout",
          "text": [
            "learning rate: 5.9e-05\n",
            "num_dense_layers: 5\n",
            "num_dense_nodes: 218\n",
            "activation: sigmoid\n",
            "\n",
            "(None, 10)\n",
            "Epoch 1/3\n",
            "422/422 [==============================] - 5s 6ms/step - loss: 1.0352 - accuracy: 0.6436 - val_loss: 0.2858 - val_accuracy: 0.9198\n",
            "Epoch 2/3\n",
            "422/422 [==============================] - 3s 6ms/step - loss: 0.1656 - accuracy: 0.9558 - val_loss: 0.1386 - val_accuracy: 0.9612\n",
            "Epoch 3/3\n",
            "422/422 [==============================] - 3s 7ms/step - loss: 0.1036 - accuracy: 0.9722 - val_loss: 0.0908 - val_accuracy: 0.9760\n",
            "\n",
            "Accuracy: 97.60%\n",
            "\n"
          ]
        },
        {
          "output_type": "stream",
          "name": "stderr",
          "text": [
            "WARNING:absl:`lr` is deprecated in Keras optimizer, please use `learning_rate` or use the legacy optimizer, e.g.,tf.keras.optimizers.legacy.Adam.\n",
            "WARNING:tensorflow:`write_grads` will be ignored in TensorFlow 2.0 for the `TensorBoard` Callback.\n"
          ]
        },
        {
          "output_type": "stream",
          "name": "stdout",
          "text": [
            "learning rate: 1.1e-06\n",
            "num_dense_layers: 2\n",
            "num_dense_nodes: 250\n",
            "activation: sigmoid\n",
            "\n",
            "(None, 10)\n",
            "Epoch 1/3\n",
            "422/422 [==============================] - 4s 6ms/step - loss: 0.5972 - accuracy: 0.8141 - val_loss: 0.1247 - val_accuracy: 0.9642\n",
            "Epoch 2/3\n",
            "422/422 [==============================] - 2s 5ms/step - loss: 0.0930 - accuracy: 0.9722 - val_loss: 0.0824 - val_accuracy: 0.9748\n",
            "Epoch 3/3\n",
            "422/422 [==============================] - 2s 6ms/step - loss: 0.0649 - accuracy: 0.9803 - val_loss: 0.0542 - val_accuracy: 0.9840\n",
            "\n",
            "Accuracy: 98.40%\n",
            "\n"
          ]
        },
        {
          "output_type": "stream",
          "name": "stderr",
          "text": [
            "WARNING:absl:`lr` is deprecated in Keras optimizer, please use `learning_rate` or use the legacy optimizer, e.g.,tf.keras.optimizers.legacy.Adam.\n",
            "WARNING:tensorflow:`write_grads` will be ignored in TensorFlow 2.0 for the `TensorBoard` Callback.\n"
          ]
        },
        {
          "output_type": "stream",
          "name": "stdout",
          "text": [
            "learning rate: 3.5e-03\n",
            "num_dense_layers: 4\n",
            "num_dense_nodes: 307\n",
            "activation: relu\n",
            "\n",
            "(None, 10)\n",
            "Epoch 1/3\n",
            "422/422 [==============================] - 5s 6ms/step - loss: 0.3327 - accuracy: 0.9254 - val_loss: 0.0685 - val_accuracy: 0.9788\n",
            "Epoch 2/3\n",
            "422/422 [==============================] - 2s 5ms/step - loss: 0.0561 - accuracy: 0.9819 - val_loss: 0.0554 - val_accuracy: 0.9815\n",
            "Epoch 3/3\n",
            "422/422 [==============================] - 2s 5ms/step - loss: 0.0399 - accuracy: 0.9876 - val_loss: 0.0486 - val_accuracy: 0.9853\n",
            "\n",
            "Accuracy: 98.53%\n",
            "\n"
          ]
        },
        {
          "output_type": "stream",
          "name": "stderr",
          "text": [
            "WARNING:absl:`lr` is deprecated in Keras optimizer, please use `learning_rate` or use the legacy optimizer, e.g.,tf.keras.optimizers.legacy.Adam.\n",
            "WARNING:tensorflow:`write_grads` will be ignored in TensorFlow 2.0 for the `TensorBoard` Callback.\n"
          ]
        },
        {
          "output_type": "stream",
          "name": "stdout",
          "text": [
            "learning rate: 1.4e-05\n",
            "num_dense_layers: 1\n",
            "num_dense_nodes: 190\n",
            "activation: sigmoid\n",
            "\n",
            "(None, 10)\n",
            "Epoch 1/3\n",
            "422/422 [==============================] - 4s 5ms/step - loss: 0.5571 - accuracy: 0.8335 - val_loss: 0.1307 - val_accuracy: 0.9655\n",
            "Epoch 2/3\n",
            "422/422 [==============================] - 2s 5ms/step - loss: 0.1033 - accuracy: 0.9705 - val_loss: 0.0720 - val_accuracy: 0.9807\n",
            "Epoch 3/3\n",
            "422/422 [==============================] - 2s 5ms/step - loss: 0.0670 - accuracy: 0.9803 - val_loss: 0.0602 - val_accuracy: 0.9835\n",
            "\n",
            "Accuracy: 98.35%\n",
            "\n"
          ]
        },
        {
          "output_type": "stream",
          "name": "stderr",
          "text": [
            "WARNING:absl:`lr` is deprecated in Keras optimizer, please use `learning_rate` or use the legacy optimizer, e.g.,tf.keras.optimizers.legacy.Adam.\n",
            "WARNING:tensorflow:`write_grads` will be ignored in TensorFlow 2.0 for the `TensorBoard` Callback.\n"
          ]
        },
        {
          "output_type": "stream",
          "name": "stdout",
          "text": [
            "learning rate: 5.0e-03\n",
            "num_dense_layers: 1\n",
            "num_dense_nodes: 422\n",
            "activation: sigmoid\n",
            "\n",
            "(None, 10)\n",
            "Epoch 1/3\n",
            "422/422 [==============================] - 4s 6ms/step - loss: 0.6956 - accuracy: 0.7826 - val_loss: 0.1373 - val_accuracy: 0.9618\n",
            "Epoch 2/3\n",
            "422/422 [==============================] - 2s 5ms/step - loss: 0.1125 - accuracy: 0.9660 - val_loss: 0.0907 - val_accuracy: 0.9743\n",
            "Epoch 3/3\n",
            "422/422 [==============================] - 2s 5ms/step - loss: 0.0738 - accuracy: 0.9778 - val_loss: 0.0690 - val_accuracy: 0.9805\n",
            "\n",
            "Accuracy: 98.05%\n",
            "\n"
          ]
        },
        {
          "output_type": "stream",
          "name": "stderr",
          "text": [
            "WARNING:absl:`lr` is deprecated in Keras optimizer, please use `learning_rate` or use the legacy optimizer, e.g.,tf.keras.optimizers.legacy.Adam.\n",
            "WARNING:tensorflow:`write_grads` will be ignored in TensorFlow 2.0 for the `TensorBoard` Callback.\n"
          ]
        },
        {
          "output_type": "stream",
          "name": "stdout",
          "text": [
            "learning rate: 3.3e-05\n",
            "num_dense_layers: 1\n",
            "num_dense_nodes: 200\n",
            "activation: relu\n",
            "\n",
            "(None, 10)\n",
            "Epoch 1/3\n",
            "422/422 [==============================] - 4s 6ms/step - loss: 0.8623 - accuracy: 0.9129 - val_loss: 0.0817 - val_accuracy: 0.9758\n",
            "Epoch 2/3\n",
            "422/422 [==============================] - 2s 6ms/step - loss: 0.0609 - accuracy: 0.9807 - val_loss: 0.0694 - val_accuracy: 0.9783\n",
            "Epoch 3/3\n",
            "422/422 [==============================] - 2s 5ms/step - loss: 0.0390 - accuracy: 0.9875 - val_loss: 0.0591 - val_accuracy: 0.9837\n",
            "\n",
            "Accuracy: 98.37%\n",
            "\n"
          ]
        },
        {
          "output_type": "stream",
          "name": "stderr",
          "text": [
            "WARNING:absl:`lr` is deprecated in Keras optimizer, please use `learning_rate` or use the legacy optimizer, e.g.,tf.keras.optimizers.legacy.Adam.\n",
            "WARNING:tensorflow:`write_grads` will be ignored in TensorFlow 2.0 for the `TensorBoard` Callback.\n"
          ]
        },
        {
          "output_type": "stream",
          "name": "stdout",
          "text": [
            "learning rate: 8.9e-05\n",
            "num_dense_layers: 5\n",
            "num_dense_nodes: 128\n",
            "activation: sigmoid\n",
            "\n",
            "(None, 10)\n",
            "Epoch 1/3\n",
            "422/422 [==============================] - 5s 6ms/step - loss: 1.9530 - accuracy: 0.2265 - val_loss: 1.2197 - val_accuracy: 0.5212\n",
            "Epoch 2/3\n",
            "422/422 [==============================] - 3s 7ms/step - loss: 0.9274 - accuracy: 0.6221 - val_loss: 0.6754 - val_accuracy: 0.7438\n",
            "Epoch 3/3\n",
            "422/422 [==============================] - 3s 6ms/step - loss: 0.4447 - accuracy: 0.8667 - val_loss: 0.2537 - val_accuracy: 0.9467\n",
            "\n",
            "Accuracy: 94.67%\n",
            "\n"
          ]
        },
        {
          "output_type": "stream",
          "name": "stderr",
          "text": [
            "WARNING:absl:`lr` is deprecated in Keras optimizer, please use `learning_rate` or use the legacy optimizer, e.g.,tf.keras.optimizers.legacy.Adam.\n",
            "WARNING:tensorflow:`write_grads` will be ignored in TensorFlow 2.0 for the `TensorBoard` Callback.\n"
          ]
        },
        {
          "output_type": "stream",
          "name": "stdout",
          "text": [
            "learning rate: 1.0e-06\n",
            "num_dense_layers: 5\n",
            "num_dense_nodes: 120\n",
            "activation: sigmoid\n",
            "\n",
            "(None, 10)\n",
            "Epoch 1/3\n",
            "422/422 [==============================] - 5s 6ms/step - loss: 1.5547 - accuracy: 0.4484 - val_loss: 0.5403 - val_accuracy: 0.8995\n",
            "Epoch 2/3\n",
            "422/422 [==============================] - 2s 6ms/step - loss: 0.3163 - accuracy: 0.9355 - val_loss: 0.1901 - val_accuracy: 0.9557\n",
            "Epoch 3/3\n",
            "422/422 [==============================] - 3s 7ms/step - loss: 0.1755 - accuracy: 0.9585 - val_loss: 0.1263 - val_accuracy: 0.9682\n",
            "\n",
            "Accuracy: 96.82%\n",
            "\n"
          ]
        },
        {
          "output_type": "stream",
          "name": "stderr",
          "text": [
            "WARNING:absl:`lr` is deprecated in Keras optimizer, please use `learning_rate` or use the legacy optimizer, e.g.,tf.keras.optimizers.legacy.Adam.\n",
            "WARNING:tensorflow:`write_grads` will be ignored in TensorFlow 2.0 for the `TensorBoard` Callback.\n"
          ]
        },
        {
          "output_type": "stream",
          "name": "stdout",
          "text": [
            "learning rate: 3.9e-06\n",
            "num_dense_layers: 5\n",
            "num_dense_nodes: 401\n",
            "activation: relu\n",
            "\n",
            "(None, 10)\n",
            "Epoch 1/3\n",
            "422/422 [==============================] - 5s 6ms/step - loss: 0.4767 - accuracy: 0.9109 - val_loss: 0.0781 - val_accuracy: 0.9768\n",
            "Epoch 2/3\n",
            "422/422 [==============================] - 3s 6ms/step - loss: 0.0645 - accuracy: 0.9803 - val_loss: 0.0774 - val_accuracy: 0.9780\n",
            "Epoch 3/3\n",
            "422/422 [==============================] - 3s 6ms/step - loss: 0.0452 - accuracy: 0.9861 - val_loss: 0.0686 - val_accuracy: 0.9825\n",
            "\n",
            "Accuracy: 98.25%\n",
            "\n"
          ]
        },
        {
          "output_type": "stream",
          "name": "stderr",
          "text": [
            "WARNING:absl:`lr` is deprecated in Keras optimizer, please use `learning_rate` or use the legacy optimizer, e.g.,tf.keras.optimizers.legacy.Adam.\n",
            "WARNING:tensorflow:`write_grads` will be ignored in TensorFlow 2.0 for the `TensorBoard` Callback.\n"
          ]
        },
        {
          "output_type": "stream",
          "name": "stdout",
          "text": [
            "learning rate: 4.3e-03\n",
            "num_dense_layers: 5\n",
            "num_dense_nodes: 98\n",
            "activation: relu\n",
            "\n",
            "(None, 10)\n",
            "Epoch 1/3\n",
            "422/422 [==============================] - 5s 6ms/step - loss: 0.2017 - accuracy: 0.9394 - val_loss: 0.0816 - val_accuracy: 0.9787\n",
            "Epoch 2/3\n",
            "422/422 [==============================] - 3s 7ms/step - loss: 0.0607 - accuracy: 0.9814 - val_loss: 0.0899 - val_accuracy: 0.9733\n",
            "Epoch 3/3\n",
            "422/422 [==============================] - 3s 6ms/step - loss: 0.0435 - accuracy: 0.9865 - val_loss: 0.0586 - val_accuracy: 0.9847\n",
            "\n",
            "Accuracy: 98.47%\n",
            "\n"
          ]
        },
        {
          "output_type": "stream",
          "name": "stderr",
          "text": [
            "WARNING:absl:`lr` is deprecated in Keras optimizer, please use `learning_rate` or use the legacy optimizer, e.g.,tf.keras.optimizers.legacy.Adam.\n",
            "WARNING:tensorflow:`write_grads` will be ignored in TensorFlow 2.0 for the `TensorBoard` Callback.\n"
          ]
        },
        {
          "output_type": "stream",
          "name": "stdout",
          "text": [
            "learning rate: 4.2e-06\n",
            "num_dense_layers: 1\n",
            "num_dense_nodes: 226\n",
            "activation: sigmoid\n",
            "\n",
            "(None, 10)\n",
            "Epoch 1/3\n",
            "422/422 [==============================] - 3s 5ms/step - loss: 0.5988 - accuracy: 0.8186 - val_loss: 0.1223 - val_accuracy: 0.9692\n",
            "Epoch 2/3\n",
            "422/422 [==============================] - 2s 5ms/step - loss: 0.1046 - accuracy: 0.9693 - val_loss: 0.0814 - val_accuracy: 0.9787\n",
            "Epoch 3/3\n",
            "422/422 [==============================] - 2s 6ms/step - loss: 0.0673 - accuracy: 0.9800 - val_loss: 0.0638 - val_accuracy: 0.9807\n",
            "\n",
            "Accuracy: 98.07%\n",
            "\n"
          ]
        },
        {
          "output_type": "stream",
          "name": "stderr",
          "text": [
            "WARNING:absl:`lr` is deprecated in Keras optimizer, please use `learning_rate` or use the legacy optimizer, e.g.,tf.keras.optimizers.legacy.Adam.\n",
            "WARNING:tensorflow:`write_grads` will be ignored in TensorFlow 2.0 for the `TensorBoard` Callback.\n"
          ]
        },
        {
          "output_type": "stream",
          "name": "stdout",
          "text": [
            "learning rate: 2.9e-06\n",
            "num_dense_layers: 5\n",
            "num_dense_nodes: 348\n",
            "activation: sigmoid\n",
            "\n",
            "(None, 10)\n",
            "Epoch 1/3\n",
            "422/422 [==============================] - 5s 6ms/step - loss: 1.0390 - accuracy: 0.6084 - val_loss: 0.2723 - val_accuracy: 0.9265\n",
            "Epoch 2/3\n",
            "422/422 [==============================] - 2s 6ms/step - loss: 0.1608 - accuracy: 0.9574 - val_loss: 0.1190 - val_accuracy: 0.9658\n",
            "Epoch 3/3\n",
            "422/422 [==============================] - 3s 7ms/step - loss: 0.0912 - accuracy: 0.9746 - val_loss: 0.0749 - val_accuracy: 0.9797\n",
            "\n",
            "Accuracy: 97.97%\n",
            "\n"
          ]
        },
        {
          "output_type": "stream",
          "name": "stderr",
          "text": [
            "WARNING:absl:`lr` is deprecated in Keras optimizer, please use `learning_rate` or use the legacy optimizer, e.g.,tf.keras.optimizers.legacy.Adam.\n",
            "WARNING:tensorflow:`write_grads` will be ignored in TensorFlow 2.0 for the `TensorBoard` Callback.\n"
          ]
        },
        {
          "output_type": "stream",
          "name": "stdout",
          "text": [
            "learning rate: 2.8e-05\n",
            "num_dense_layers: 5\n",
            "num_dense_nodes: 209\n",
            "activation: sigmoid\n",
            "\n",
            "(None, 10)\n",
            "Epoch 1/3\n",
            "422/422 [==============================] - 5s 6ms/step - loss: 0.9824 - accuracy: 0.6502 - val_loss: 0.1440 - val_accuracy: 0.9633\n",
            "Epoch 2/3\n",
            "422/422 [==============================] - 2s 6ms/step - loss: 0.1356 - accuracy: 0.9641 - val_loss: 0.0899 - val_accuracy: 0.9762\n",
            "Epoch 3/3\n",
            "422/422 [==============================] - 3s 7ms/step - loss: 0.0858 - accuracy: 0.9766 - val_loss: 0.0616 - val_accuracy: 0.9823\n",
            "\n",
            "Accuracy: 98.23%\n",
            "\n"
          ]
        },
        {
          "output_type": "stream",
          "name": "stderr",
          "text": [
            "WARNING:absl:`lr` is deprecated in Keras optimizer, please use `learning_rate` or use the legacy optimizer, e.g.,tf.keras.optimizers.legacy.Adam.\n",
            "WARNING:tensorflow:`write_grads` will be ignored in TensorFlow 2.0 for the `TensorBoard` Callback.\n"
          ]
        },
        {
          "output_type": "stream",
          "name": "stdout",
          "text": [
            "learning rate: 4.4e-04\n",
            "num_dense_layers: 4\n",
            "num_dense_nodes: 431\n",
            "activation: sigmoid\n",
            "\n",
            "(None, 10)\n",
            "Epoch 1/3\n",
            "422/422 [==============================] - 5s 6ms/step - loss: 0.9241 - accuracy: 0.6661 - val_loss: 0.1690 - val_accuracy: 0.9513\n",
            "Epoch 2/3\n",
            "422/422 [==============================] - 2s 6ms/step - loss: 0.1245 - accuracy: 0.9626 - val_loss: 0.0940 - val_accuracy: 0.9708\n",
            "Epoch 3/3\n",
            "422/422 [==============================] - 3s 6ms/step - loss: 0.0829 - accuracy: 0.9749 - val_loss: 0.0916 - val_accuracy: 0.9733\n",
            "\n",
            "Accuracy: 97.33%\n",
            "\n"
          ]
        },
        {
          "output_type": "stream",
          "name": "stderr",
          "text": [
            "WARNING:absl:`lr` is deprecated in Keras optimizer, please use `learning_rate` or use the legacy optimizer, e.g.,tf.keras.optimizers.legacy.Adam.\n",
            "WARNING:tensorflow:`write_grads` will be ignored in TensorFlow 2.0 for the `TensorBoard` Callback.\n"
          ]
        },
        {
          "output_type": "stream",
          "name": "stdout",
          "text": [
            "learning rate: 8.6e-06\n",
            "num_dense_layers: 1\n",
            "num_dense_nodes: 15\n",
            "activation: sigmoid\n",
            "\n",
            "(None, 10)\n",
            "Epoch 1/3\n",
            "422/422 [==============================] - 4s 5ms/step - loss: 1.3387 - accuracy: 0.6877 - val_loss: 0.5572 - val_accuracy: 0.9302\n",
            "Epoch 2/3\n",
            "422/422 [==============================] - 2s 5ms/step - loss: 0.3624 - accuracy: 0.9488 - val_loss: 0.2339 - val_accuracy: 0.9635\n",
            "Epoch 3/3\n",
            "422/422 [==============================] - 2s 5ms/step - loss: 0.1882 - accuracy: 0.9675 - val_loss: 0.1439 - val_accuracy: 0.9748\n",
            "\n",
            "Accuracy: 97.48%\n",
            "\n"
          ]
        },
        {
          "output_type": "stream",
          "name": "stderr",
          "text": [
            "WARNING:absl:`lr` is deprecated in Keras optimizer, please use `learning_rate` or use the legacy optimizer, e.g.,tf.keras.optimizers.legacy.Adam.\n",
            "WARNING:tensorflow:`write_grads` will be ignored in TensorFlow 2.0 for the `TensorBoard` Callback.\n"
          ]
        },
        {
          "output_type": "stream",
          "name": "stdout",
          "text": [
            "learning rate: 1.0e-06\n",
            "num_dense_layers: 4\n",
            "num_dense_nodes: 393\n",
            "activation: sigmoid\n",
            "\n",
            "(None, 10)\n",
            "Epoch 1/3\n",
            "422/422 [==============================] - 5s 6ms/step - loss: 0.7702 - accuracy: 0.7271 - val_loss: 0.1293 - val_accuracy: 0.9617\n",
            "Epoch 2/3\n",
            "422/422 [==============================] - 2s 6ms/step - loss: 0.1122 - accuracy: 0.9669 - val_loss: 0.1144 - val_accuracy: 0.9658\n",
            "Epoch 3/3\n",
            "422/422 [==============================] - 3s 6ms/step - loss: 0.0786 - accuracy: 0.9767 - val_loss: 0.0673 - val_accuracy: 0.9790\n",
            "\n",
            "Accuracy: 97.90%\n",
            "\n"
          ]
        },
        {
          "output_type": "stream",
          "name": "stderr",
          "text": [
            "WARNING:absl:`lr` is deprecated in Keras optimizer, please use `learning_rate` or use the legacy optimizer, e.g.,tf.keras.optimizers.legacy.Adam.\n",
            "WARNING:tensorflow:`write_grads` will be ignored in TensorFlow 2.0 for the `TensorBoard` Callback.\n"
          ]
        },
        {
          "output_type": "stream",
          "name": "stdout",
          "text": [
            "learning rate: 2.3e-03\n",
            "num_dense_layers: 5\n",
            "num_dense_nodes: 340\n",
            "activation: sigmoid\n",
            "\n",
            "(None, 10)\n",
            "Epoch 1/3\n",
            "422/422 [==============================] - 5s 6ms/step - loss: 1.0264 - accuracy: 0.6126 - val_loss: 0.1971 - val_accuracy: 0.9497\n",
            "Epoch 2/3\n",
            "422/422 [==============================] - 2s 6ms/step - loss: 0.1570 - accuracy: 0.9585 - val_loss: 0.1093 - val_accuracy: 0.9703\n",
            "Epoch 3/3\n",
            "422/422 [==============================] - 2s 6ms/step - loss: 0.0925 - accuracy: 0.9739 - val_loss: 0.0702 - val_accuracy: 0.9790\n",
            "\n",
            "Accuracy: 97.90%\n",
            "\n",
            "CPU times: user 15min 42s, sys: 1min 33s, total: 17min 15s\n",
            "Wall time: 18min 4s\n"
          ]
        }
      ]
    },
    {
      "cell_type": "code",
      "source": [],
      "metadata": {
        "id": "fslfJ_WvbDKx"
      },
      "execution_count": null,
      "outputs": []
    },
    {
      "cell_type": "markdown",
      "source": [
        "**Optimization Progress**"
      ],
      "metadata": {
        "id": "P__8Hj5aztUP"
      }
    },
    {
      "cell_type": "code",
      "source": [
        "plot_convergence(search_result)"
      ],
      "metadata": {
        "id": "tMGKoaxzbIR7",
        "colab": {
          "base_uri": "https://localhost:8080/",
          "height": 490
        },
        "outputId": "f7a28d9d-c994-4f25-b5f0-f9e688d88ee6"
      },
      "execution_count": 75,
      "outputs": [
        {
          "output_type": "execute_result",
          "data": {
            "text/plain": [
              "<Axes: title={'center': 'Convergence plot'}, xlabel='Number of calls $n$', ylabel='$\\\\min f(x)$ after $n$ calls'>"
            ]
          },
          "metadata": {},
          "execution_count": 75
        },
        {
          "output_type": "display_data",
          "data": {
            "text/plain": [
              "<Figure size 640x480 with 1 Axes>"
            ],
            "image/png": "[encoded data removed]"
          },
          "metadata": {}
        }
      ]
    },
    {
      "cell_type": "markdown",
      "source": [
        "**Best Hyper-Parameters**"
      ],
      "metadata": {
        "id": "BuTAxDyI0JJx"
      }
    },
    {
      "cell_type": "code",
      "source": [
        "search_result.x"
      ],
      "metadata": {
        "colab": {
          "base_uri": "https://localhost:8080/"
        },
        "id": "6jcMmtnMz_De",
        "outputId": "7c67fe16-700e-45f0-fb11-56b8c2faf5fa"
      },
      "execution_count": 76,
      "outputs": [
        {
          "output_type": "execute_result",
          "data": {
            "text/plain": [
              "[1.0233755689753228e-06, 2, 405, 'sigmoid']"
            ]
          },
          "metadata": {},
          "execution_count": 76
        }
      ]
    },
    {
      "cell_type": "code",
      "source": [
        "space = search_result.space\n",
        "params_dict = dict(zip(space.dimension_names, search_result.x))\n",
        "print(params_dict)"
      ],
      "metadata": {
        "colab": {
          "base_uri": "https://localhost:8080/"
        },
        "id": "4u4ZqSF_0RNh",
        "outputId": "a6e7f0f1-8130-4941-e0c4-f81ec4ca8b89"
      },
      "execution_count": 77,
      "outputs": [
        {
          "output_type": "stream",
          "name": "stdout",
          "text": [
            "{'learning_rate': 1.0233755689753228e-06, 'num_dense_layers': 2, 'num_dense_nodes': 405, 'activation': 'sigmoid'}\n"
          ]
        }
      ]
    },
    {
      "cell_type": "code",
      "source": [
        "search_result.fun"
      ],
      "metadata": {
        "colab": {
          "base_uri": "https://localhost:8080/"
        },
        "id": "42bJZsfl5jc5",
        "outputId": "63a58b9d-37be-4ef0-995b-9bc761c314b0"
      },
      "execution_count": 78,
      "outputs": [
        {
          "output_type": "execute_result",
          "data": {
            "text/plain": [
              "-0.987333357334137"
            ]
          },
          "metadata": {},
          "execution_count": 78
        }
      ]
    },
    {
      "cell_type": "markdown",
      "source": [
        "**Plots**"
      ],
      "metadata": {
        "id": "T3Osgi9c6XkT"
      }
    },
    {
      "cell_type": "code",
      "source": [
        "fig= plot_histogram(result=search_result,\n",
        "                         dimension_identifier='activation')"
      ],
      "metadata": {
        "colab": {
          "base_uri": "https://localhost:8080/",
          "height": 449
        },
        "id": "0XxROB1S0fo2",
        "outputId": "0d832aa0-23ab-490b-c0bc-018fce894d32"
      },
      "execution_count": 79,
      "outputs": [
        {
          "output_type": "display_data",
          "data": {
            "text/plain": [
              "<Figure size 640x480 with 1 Axes>"
            ],
            "image/png": "[encoded data removed]"
          },
          "metadata": {}
        }
      ]
    },
    {
      "cell_type": "code",
      "source": [
        "fig = plot_objective_2D(result=search_result,\n",
        "                        dimension_identifier1='learning_rate',\n",
        "                        dimension_identifier2='num_dense_layers',\n",
        "                        levels=50)"
      ],
      "metadata": {
        "colab": {
          "base_uri": "https://localhost:8080/",
          "height": 460
        },
        "id": "clxxqf3W0q6L",
        "outputId": "2975b0f9-f9e9-4646-c827-615d6364ab42"
      },
      "execution_count": 80,
      "outputs": [
        {
          "output_type": "display_data",
          "data": {
            "text/plain": [
              "<Figure size 640x480 with 1 Axes>"
            ],
            "image/png": "[encoded data removed]"
          },
          "metadata": {}
        }
      ]
    },
    {
      "cell_type": "code",
      "source": [
        "dim_names = ['learning_rate', 'num_dense_layers', 'num_dense_nodes','activations']\n",
        "fig= plot_objective(result=search_result, dimensions=dim_names)"
      ],
      "metadata": {
        "colab": {
          "base_uri": "https://localhost:8080/",
          "height": 764
        },
        "id": "jCLdN2SW4Jkb",
        "outputId": "924d4fee-507b-4996-ec17-a73005219eaf"
      },
      "execution_count": 81,
      "outputs": [
        {
          "output_type": "display_data",
          "data": {
            "text/plain": [
              "<Figure size 800x800 with 17 Axes>"
            ],
            "image/png": "[encoded data removed]"
          },
          "metadata": {}
        }
      ]
    },
    {
      "cell_type": "code",
      "source": [
        "fig= plot_evaluations(result=search_result, dimensions=dim_names)"
      ],
      "metadata": {
        "colab": {
          "base_uri": "https://localhost:8080/",
          "height": 764
        },
        "id": "m5HdpfXX7ud6",
        "outputId": "3342f927-5fab-4e2d-ee6f-c4731a78145d"
      },
      "execution_count": 82,
      "outputs": [
        {
          "output_type": "display_data",
          "data": {
            "text/plain": [
              "<Figure size 800x800 with 17 Axes>"
            ],
            "image/png": "[encoded data removed]"
          },
          "metadata": {}
        }
      ]
    },
    {
      "cell_type": "markdown",
      "source": [
        "**Evaluate Best Model on Test Set**"
      ],
      "metadata": {
        "id": "pWYlKhOO-he3"
      }
    },
    {
      "cell_type": "code",
      "source": [
        "model  = load_model(path_best_model)"
      ],
      "metadata": {
        "id": "JqAifAXB9NCX"
      },
      "execution_count": 83,
      "outputs": []
    },
    {
      "cell_type": "code",
      "source": [
        "result = model.evaluate(x = test_images, y = test_labels_one_hot)"
      ],
      "metadata": {
        "colab": {
          "base_uri": "https://localhost:8080/"
        },
        "id": "b6Jjr7hd-vpA",
        "outputId": "4ad03535-b8a3-4a1c-871c-c5966b1c6146"
      },
      "execution_count": 84,
      "outputs": [
        {
          "output_type": "stream",
          "name": "stdout",
          "text": [
            "313/313 [==============================] - 1s 3ms/step - loss: 0.0406 - accuracy: 0.9875\n"
          ]
        }
      ]
    },
    {
      "cell_type": "code",
      "source": [
        "for name, value in zip(model.metrics_names, result):\n",
        "    print(name, value)"
      ],
      "metadata": {
        "colab": {
          "base_uri": "https://localhost:8080/"
        },
        "id": "zqPvdoLc-8fs",
        "outputId": "62384fe7-aded-417b-ff55-c086fc5feb77"
      },
      "execution_count": 85,
      "outputs": [
        {
          "output_type": "stream",
          "name": "stdout",
          "text": [
            "loss 0.04062021151185036\n",
            "accuracy 0.987500011920929\n"
          ]
        }
      ]
    },
    {
      "cell_type": "code",
      "source": [
        "print(\"{0}: {1:.2%}\".format(model.metrics_names[1], result[1]))"
      ],
      "metadata": {
        "colab": {
          "base_uri": "https://localhost:8080/"
        },
        "id": "IjGid0AU_RDp",
        "outputId": "7c9f1b96-6282-4879-e72b-289bcbc884f6"
      },
      "execution_count": 86,
      "outputs": [
        {
          "output_type": "stream",
          "name": "stdout",
          "text": [
            "accuracy: 98.75%\n"
          ]
        }
      ]
    },
    {
      "cell_type": "code",
      "source": [],
      "metadata": {
        "id": "9UxleLrt_yRb"
      },
      "execution_count": 86,
      "outputs": []
    }
  ]
}